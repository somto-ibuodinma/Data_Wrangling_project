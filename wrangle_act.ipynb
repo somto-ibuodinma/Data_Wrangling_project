{
 "cells": [
  {
   "cell_type": "markdown",
   "metadata": {
    "extensions": {
     "jupyter_dashboards": {
      "version": 1,
      "views": {
       "grid_default": {
        "col": 0,
        "height": 4,
        "hidden": false,
        "row": 0,
        "width": 4
       },
       "report_default": {
        "hidden": false
       }
      }
     }
    }
   },
   "source": [
    "# Project: Wrangling and Analyze Data"
   ]
  },
  {
   "cell_type": "markdown",
   "metadata": {},
   "source": [
    "## Data Gathering\n",
    "In the cell below, gather **all** three pieces of data for this project and load them in the notebook. **Note:** the methods required to gather each data are different.\n",
    "1. Directly download the WeRateDogs Twitter archive data (twitter_archive_enhanced.csv)"
   ]
  },
  {
   "cell_type": "code",
   "execution_count": 1,
   "metadata": {
    "extensions": {
     "jupyter_dashboards": {
      "version": 1,
      "views": {
       "grid_default": {
        "hidden": true
       },
       "report_default": {
        "hidden": true
       }
      }
     }
    }
   },
   "outputs": [],
   "source": [
    "# importing required modules\n",
    "import pandas as pd\n",
    "import matplotlib.pyplot as plt\n",
    "import seaborn as sns\n"
   ]
  },
  {
   "cell_type": "code",
   "execution_count": 2,
   "metadata": {},
   "outputs": [],
   "source": [
    "# readeing the twitter archive file into a dataframw\n",
    "twitter_arc= pd.read_csv('twitter-archive-enhanced.csv')"
   ]
  },
  {
   "cell_type": "code",
   "execution_count": 3,
   "metadata": {
    "scrolled": true
   },
   "outputs": [
    {
     "data": {
      "text/html": [
       "<div>\n",
       "<style scoped>\n",
       "    .dataframe tbody tr th:only-of-type {\n",
       "        vertical-align: middle;\n",
       "    }\n",
       "\n",
       "    .dataframe tbody tr th {\n",
       "        vertical-align: top;\n",
       "    }\n",
       "\n",
       "    .dataframe thead th {\n",
       "        text-align: right;\n",
       "    }\n",
       "</style>\n",
       "<table border=\"1\" class=\"dataframe\">\n",
       "  <thead>\n",
       "    <tr style=\"text-align: right;\">\n",
       "      <th></th>\n",
       "      <th>tweet_id</th>\n",
       "      <th>in_reply_to_status_id</th>\n",
       "      <th>in_reply_to_user_id</th>\n",
       "      <th>timestamp</th>\n",
       "      <th>source</th>\n",
       "      <th>text</th>\n",
       "      <th>retweeted_status_id</th>\n",
       "      <th>retweeted_status_user_id</th>\n",
       "      <th>retweeted_status_timestamp</th>\n",
       "      <th>expanded_urls</th>\n",
       "      <th>rating_numerator</th>\n",
       "      <th>rating_denominator</th>\n",
       "      <th>name</th>\n",
       "      <th>doggo</th>\n",
       "      <th>floofer</th>\n",
       "      <th>pupper</th>\n",
       "      <th>puppo</th>\n",
       "    </tr>\n",
       "  </thead>\n",
       "  <tbody>\n",
       "    <tr>\n",
       "      <th>0</th>\n",
       "      <td>892420643555336193</td>\n",
       "      <td>NaN</td>\n",
       "      <td>NaN</td>\n",
       "      <td>2017-08-01 16:23:56 +0000</td>\n",
       "      <td>&lt;a href=\"http://twitter.com/download/iphone\" r...</td>\n",
       "      <td>This is Phineas. He's a mystical boy. Only eve...</td>\n",
       "      <td>NaN</td>\n",
       "      <td>NaN</td>\n",
       "      <td>NaN</td>\n",
       "      <td>https://twitter.com/dog_rates/status/892420643...</td>\n",
       "      <td>13</td>\n",
       "      <td>10</td>\n",
       "      <td>Phineas</td>\n",
       "      <td>None</td>\n",
       "      <td>None</td>\n",
       "      <td>None</td>\n",
       "      <td>None</td>\n",
       "    </tr>\n",
       "    <tr>\n",
       "      <th>1</th>\n",
       "      <td>892177421306343426</td>\n",
       "      <td>NaN</td>\n",
       "      <td>NaN</td>\n",
       "      <td>2017-08-01 00:17:27 +0000</td>\n",
       "      <td>&lt;a href=\"http://twitter.com/download/iphone\" r...</td>\n",
       "      <td>This is Tilly. She's just checking pup on you....</td>\n",
       "      <td>NaN</td>\n",
       "      <td>NaN</td>\n",
       "      <td>NaN</td>\n",
       "      <td>https://twitter.com/dog_rates/status/892177421...</td>\n",
       "      <td>13</td>\n",
       "      <td>10</td>\n",
       "      <td>Tilly</td>\n",
       "      <td>None</td>\n",
       "      <td>None</td>\n",
       "      <td>None</td>\n",
       "      <td>None</td>\n",
       "    </tr>\n",
       "  </tbody>\n",
       "</table>\n",
       "</div>"
      ],
      "text/plain": [
       "             tweet_id  in_reply_to_status_id  in_reply_to_user_id  \\\n",
       "0  892420643555336193                    NaN                  NaN   \n",
       "1  892177421306343426                    NaN                  NaN   \n",
       "\n",
       "                   timestamp  \\\n",
       "0  2017-08-01 16:23:56 +0000   \n",
       "1  2017-08-01 00:17:27 +0000   \n",
       "\n",
       "                                              source  \\\n",
       "0  <a href=\"http://twitter.com/download/iphone\" r...   \n",
       "1  <a href=\"http://twitter.com/download/iphone\" r...   \n",
       "\n",
       "                                                text  retweeted_status_id  \\\n",
       "0  This is Phineas. He's a mystical boy. Only eve...                  NaN   \n",
       "1  This is Tilly. She's just checking pup on you....                  NaN   \n",
       "\n",
       "   retweeted_status_user_id retweeted_status_timestamp  \\\n",
       "0                       NaN                        NaN   \n",
       "1                       NaN                        NaN   \n",
       "\n",
       "                                       expanded_urls  rating_numerator  \\\n",
       "0  https://twitter.com/dog_rates/status/892420643...                13   \n",
       "1  https://twitter.com/dog_rates/status/892177421...                13   \n",
       "\n",
       "   rating_denominator     name doggo floofer pupper puppo  \n",
       "0                  10  Phineas  None    None   None  None  \n",
       "1                  10    Tilly  None    None   None  None  "
      ]
     },
     "execution_count": 3,
     "metadata": {},
     "output_type": "execute_result"
    }
   ],
   "source": [
    "twitter_arc.head(2) # checking the structure of the file"
   ]
  },
  {
   "cell_type": "markdown",
   "metadata": {},
   "source": [
    "2. Using the Requests library to download the tweet image prediction (image_predictions.tsv)"
   ]
  },
  {
   "cell_type": "code",
   "execution_count": 4,
   "metadata": {},
   "outputs": [],
   "source": [
    "import requests # importing the module for requesting the url\n",
    "\n",
    "# assigning the url to a variable url for easy manipulation\n",
    "url = ('https://d17h27t6h515a5.cloudfront.net/topher/2017/August/599fd2ad_image-predictions/image-predictions.tsv')\n",
    "\n",
    "response= requests.get(url) # getting the file required"
   ]
  },
  {
   "cell_type": "code",
   "execution_count": 5,
   "metadata": {},
   "outputs": [],
   "source": [
    "# this code saves the file in our directory as 'image-predictions.tsv'\n",
    "with open('image-predictions.tsv', mode= 'wb') as file:\n",
    "          file.write(response.content)"
   ]
  },
  {
   "cell_type": "code",
   "execution_count": 6,
   "metadata": {},
   "outputs": [],
   "source": [
    "# we use the pd.read_table method to read the \n",
    "image_prediction= pd.read_csv('image-predictions.tsv',delimiter= '\\t')"
   ]
  },
  {
   "cell_type": "code",
   "execution_count": 7,
   "metadata": {},
   "outputs": [
    {
     "data": {
      "text/html": [
       "<div>\n",
       "<style scoped>\n",
       "    .dataframe tbody tr th:only-of-type {\n",
       "        vertical-align: middle;\n",
       "    }\n",
       "\n",
       "    .dataframe tbody tr th {\n",
       "        vertical-align: top;\n",
       "    }\n",
       "\n",
       "    .dataframe thead th {\n",
       "        text-align: right;\n",
       "    }\n",
       "</style>\n",
       "<table border=\"1\" class=\"dataframe\">\n",
       "  <thead>\n",
       "    <tr style=\"text-align: right;\">\n",
       "      <th></th>\n",
       "      <th>tweet_id</th>\n",
       "      <th>jpg_url</th>\n",
       "      <th>img_num</th>\n",
       "      <th>p1</th>\n",
       "      <th>p1_conf</th>\n",
       "      <th>p1_dog</th>\n",
       "      <th>p2</th>\n",
       "      <th>p2_conf</th>\n",
       "      <th>p2_dog</th>\n",
       "      <th>p3</th>\n",
       "      <th>p3_conf</th>\n",
       "      <th>p3_dog</th>\n",
       "    </tr>\n",
       "  </thead>\n",
       "  <tbody>\n",
       "    <tr>\n",
       "      <th>0</th>\n",
       "      <td>666020888022790149</td>\n",
       "      <td>https://pbs.twimg.com/media/CT4udn0WwAA0aMy.jpg</td>\n",
       "      <td>1</td>\n",
       "      <td>Welsh_springer_spaniel</td>\n",
       "      <td>0.465074</td>\n",
       "      <td>True</td>\n",
       "      <td>collie</td>\n",
       "      <td>0.156665</td>\n",
       "      <td>True</td>\n",
       "      <td>Shetland_sheepdog</td>\n",
       "      <td>0.061428</td>\n",
       "      <td>True</td>\n",
       "    </tr>\n",
       "    <tr>\n",
       "      <th>1</th>\n",
       "      <td>666029285002620928</td>\n",
       "      <td>https://pbs.twimg.com/media/CT42GRgUYAA5iDo.jpg</td>\n",
       "      <td>1</td>\n",
       "      <td>redbone</td>\n",
       "      <td>0.506826</td>\n",
       "      <td>True</td>\n",
       "      <td>miniature_pinscher</td>\n",
       "      <td>0.074192</td>\n",
       "      <td>True</td>\n",
       "      <td>Rhodesian_ridgeback</td>\n",
       "      <td>0.072010</td>\n",
       "      <td>True</td>\n",
       "    </tr>\n",
       "    <tr>\n",
       "      <th>2</th>\n",
       "      <td>666033412701032449</td>\n",
       "      <td>https://pbs.twimg.com/media/CT4521TWwAEvMyu.jpg</td>\n",
       "      <td>1</td>\n",
       "      <td>German_shepherd</td>\n",
       "      <td>0.596461</td>\n",
       "      <td>True</td>\n",
       "      <td>malinois</td>\n",
       "      <td>0.138584</td>\n",
       "      <td>True</td>\n",
       "      <td>bloodhound</td>\n",
       "      <td>0.116197</td>\n",
       "      <td>True</td>\n",
       "    </tr>\n",
       "    <tr>\n",
       "      <th>3</th>\n",
       "      <td>666044226329800704</td>\n",
       "      <td>https://pbs.twimg.com/media/CT5Dr8HUEAA-lEu.jpg</td>\n",
       "      <td>1</td>\n",
       "      <td>Rhodesian_ridgeback</td>\n",
       "      <td>0.408143</td>\n",
       "      <td>True</td>\n",
       "      <td>redbone</td>\n",
       "      <td>0.360687</td>\n",
       "      <td>True</td>\n",
       "      <td>miniature_pinscher</td>\n",
       "      <td>0.222752</td>\n",
       "      <td>True</td>\n",
       "    </tr>\n",
       "    <tr>\n",
       "      <th>4</th>\n",
       "      <td>666049248165822465</td>\n",
       "      <td>https://pbs.twimg.com/media/CT5IQmsXIAAKY4A.jpg</td>\n",
       "      <td>1</td>\n",
       "      <td>miniature_pinscher</td>\n",
       "      <td>0.560311</td>\n",
       "      <td>True</td>\n",
       "      <td>Rottweiler</td>\n",
       "      <td>0.243682</td>\n",
       "      <td>True</td>\n",
       "      <td>Doberman</td>\n",
       "      <td>0.154629</td>\n",
       "      <td>True</td>\n",
       "    </tr>\n",
       "  </tbody>\n",
       "</table>\n",
       "</div>"
      ],
      "text/plain": [
       "             tweet_id                                          jpg_url  \\\n",
       "0  666020888022790149  https://pbs.twimg.com/media/CT4udn0WwAA0aMy.jpg   \n",
       "1  666029285002620928  https://pbs.twimg.com/media/CT42GRgUYAA5iDo.jpg   \n",
       "2  666033412701032449  https://pbs.twimg.com/media/CT4521TWwAEvMyu.jpg   \n",
       "3  666044226329800704  https://pbs.twimg.com/media/CT5Dr8HUEAA-lEu.jpg   \n",
       "4  666049248165822465  https://pbs.twimg.com/media/CT5IQmsXIAAKY4A.jpg   \n",
       "\n",
       "   img_num                      p1   p1_conf  p1_dog                  p2  \\\n",
       "0        1  Welsh_springer_spaniel  0.465074    True              collie   \n",
       "1        1                 redbone  0.506826    True  miniature_pinscher   \n",
       "2        1         German_shepherd  0.596461    True            malinois   \n",
       "3        1     Rhodesian_ridgeback  0.408143    True             redbone   \n",
       "4        1      miniature_pinscher  0.560311    True          Rottweiler   \n",
       "\n",
       "    p2_conf  p2_dog                   p3   p3_conf  p3_dog  \n",
       "0  0.156665    True    Shetland_sheepdog  0.061428    True  \n",
       "1  0.074192    True  Rhodesian_ridgeback  0.072010    True  \n",
       "2  0.138584    True           bloodhound  0.116197    True  \n",
       "3  0.360687    True   miniature_pinscher  0.222752    True  \n",
       "4  0.243682    True             Doberman  0.154629    True  "
      ]
     },
     "execution_count": 7,
     "metadata": {},
     "output_type": "execute_result"
    }
   ],
   "source": [
    "image_prediction.head()"
   ]
  },
  {
   "cell_type": "code",
   "execution_count": 8,
   "metadata": {},
   "outputs": [
    {
     "data": {
      "text/plain": [
       "(2075, 12)"
      ]
     },
     "execution_count": 8,
     "metadata": {},
     "output_type": "execute_result"
    }
   ],
   "source": [
    "image_prediction.shape"
   ]
  },
  {
   "cell_type": "markdown",
   "metadata": {},
   "source": [
    "3. Using the Tweepy library to query additional data via the Twitter API (tweet_json.txt)"
   ]
  },
  {
   "cell_type": "code",
   "execution_count": 9,
   "metadata": {},
   "outputs": [],
   "source": [
    "# importing modules for handling twitter api\n",
    "import tweepy\n",
    "from tweepy import OAuthHandler\n",
    "import json\n",
    "from timeit import default_timer as timer"
   ]
  },
  {
   "cell_type": "code",
   "execution_count": 13,
   "metadata": {},
   "outputs": [],
   "source": [
    "# opening the txt file and reading the content line by line\n",
    "with open('tweet-json.txt','r') as file:\n",
    "    opened = file.readlines()\n",
    "\n"
   ]
  },
  {
   "cell_type": "code",
   "execution_count": 14,
   "metadata": {},
   "outputs": [],
   "source": [
    "\n",
    "df = [] # declaring a list we will use to create our new dataframe\n",
    "for i in opened: # looping through the opened pandas string\n",
    "    parsed= json.loads(i) # converting txt to json/dict\n",
    "    # creating a dictionary \n",
    "    obj ={'id': parsed['id'], 'retweet_count': parsed['retweet_count'], 'favorite_count': parsed['favorite_count']}\n",
    "    \n",
    "    df.append(obj) # adding to the list of dictionaries\n",
    "    \n",
    "# creating a dataframe that contains the new data    \n",
    "extra_twitter_data= pd.DataFrame(df, columns= ['id','retweet_count','favorite_count'])\n"
   ]
  },
  {
   "cell_type": "code",
   "execution_count": 15,
   "metadata": {},
   "outputs": [
    {
     "data": {
      "text/html": [
       "<div>\n",
       "<style scoped>\n",
       "    .dataframe tbody tr th:only-of-type {\n",
       "        vertical-align: middle;\n",
       "    }\n",
       "\n",
       "    .dataframe tbody tr th {\n",
       "        vertical-align: top;\n",
       "    }\n",
       "\n",
       "    .dataframe thead th {\n",
       "        text-align: right;\n",
       "    }\n",
       "</style>\n",
       "<table border=\"1\" class=\"dataframe\">\n",
       "  <thead>\n",
       "    <tr style=\"text-align: right;\">\n",
       "      <th></th>\n",
       "      <th>id</th>\n",
       "      <th>retweet_count</th>\n",
       "      <th>favorite_count</th>\n",
       "    </tr>\n",
       "  </thead>\n",
       "  <tbody>\n",
       "    <tr>\n",
       "      <th>0</th>\n",
       "      <td>892420643555336193</td>\n",
       "      <td>8853</td>\n",
       "      <td>39467</td>\n",
       "    </tr>\n",
       "    <tr>\n",
       "      <th>1</th>\n",
       "      <td>892177421306343426</td>\n",
       "      <td>6514</td>\n",
       "      <td>33819</td>\n",
       "    </tr>\n",
       "    <tr>\n",
       "      <th>2</th>\n",
       "      <td>891815181378084864</td>\n",
       "      <td>4328</td>\n",
       "      <td>25461</td>\n",
       "    </tr>\n",
       "    <tr>\n",
       "      <th>3</th>\n",
       "      <td>891689557279858688</td>\n",
       "      <td>8964</td>\n",
       "      <td>42908</td>\n",
       "    </tr>\n",
       "    <tr>\n",
       "      <th>4</th>\n",
       "      <td>891327558926688256</td>\n",
       "      <td>9774</td>\n",
       "      <td>41048</td>\n",
       "    </tr>\n",
       "  </tbody>\n",
       "</table>\n",
       "</div>"
      ],
      "text/plain": [
       "                   id  retweet_count  favorite_count\n",
       "0  892420643555336193           8853           39467\n",
       "1  892177421306343426           6514           33819\n",
       "2  891815181378084864           4328           25461\n",
       "3  891689557279858688           8964           42908\n",
       "4  891327558926688256           9774           41048"
      ]
     },
     "execution_count": 15,
     "metadata": {},
     "output_type": "execute_result"
    }
   ],
   "source": [
    "extra_twitter_data.head() # checking the dataframe"
   ]
  },
  {
   "cell_type": "markdown",
   "metadata": {
    "extensions": {
     "jupyter_dashboards": {
      "version": 1,
      "views": {
       "grid_default": {
        "col": 4,
        "height": 4,
        "hidden": false,
        "row": 28,
        "width": 4
       },
       "report_default": {
        "hidden": false
       }
      }
     }
    }
   },
   "source": [
    "## Assessing Data\n",
    "In this section, detect and document at least **eight (8) quality issues and two (2) tidiness issue**. You must use **both** visual assessment\n",
    "programmatic assessement to assess the data.\n",
    "\n",
    "**Note:** pay attention to the following key points when you access the data.\n",
    "\n",
    "* You only want original ratings (no retweets) that have images. Though there are 5000+ tweets in the dataset, not all are dog ratings and some are retweets.\n",
    "* Assessing and cleaning the entire dataset completely would require a lot of time, and is not necessary to practice and demonstrate your skills in data wrangling. Therefore, the requirements of this project are only to assess and clean at least 8 quality issues and at least 2 tidiness issues in this dataset.\n",
    "* The fact that the rating numerators are greater than the denominators does not need to be cleaned. This [unique rating system](http://knowyourmeme.com/memes/theyre-good-dogs-brent) is a big part of the popularity of WeRateDogs.\n",
    "* You do not need to gather the tweets beyond August 1st, 2017. You can, but note that you won't be able to gather the image predictions for these tweets since you don't have access to the algorithm used.\n",
    "\n"
   ]
  },
  {
   "cell_type": "code",
   "execution_count": 16,
   "metadata": {},
   "outputs": [
    {
     "data": {
      "text/plain": [
       "(2356, 17)"
      ]
     },
     "execution_count": 16,
     "metadata": {},
     "output_type": "execute_result"
    }
   ],
   "source": [
    "twitter_arc.shape # checking the number of columns and rows here"
   ]
  },
  {
   "cell_type": "code",
   "execution_count": 17,
   "metadata": {
    "scrolled": false
   },
   "outputs": [
    {
     "name": "stdout",
     "output_type": "stream",
     "text": [
      "<class 'pandas.core.frame.DataFrame'>\n",
      "RangeIndex: 2356 entries, 0 to 2355\n",
      "Data columns (total 17 columns):\n",
      "tweet_id                      2356 non-null int64\n",
      "in_reply_to_status_id         78 non-null float64\n",
      "in_reply_to_user_id           78 non-null float64\n",
      "timestamp                     2356 non-null object\n",
      "source                        2356 non-null object\n",
      "text                          2356 non-null object\n",
      "retweeted_status_id           181 non-null float64\n",
      "retweeted_status_user_id      181 non-null float64\n",
      "retweeted_status_timestamp    181 non-null object\n",
      "expanded_urls                 2297 non-null object\n",
      "rating_numerator              2356 non-null int64\n",
      "rating_denominator            2356 non-null int64\n",
      "name                          2356 non-null object\n",
      "doggo                         2356 non-null object\n",
      "floofer                       2356 non-null object\n",
      "pupper                        2356 non-null object\n",
      "puppo                         2356 non-null object\n",
      "dtypes: float64(4), int64(3), object(10)\n",
      "memory usage: 313.0+ KB\n"
     ]
    }
   ],
   "source": [
    "twitter_arc.info() # to appreciate the whether there are missing values and appriopriate datatypes"
   ]
  },
  {
   "cell_type": "code",
   "execution_count": 18,
   "metadata": {},
   "outputs": [
    {
     "data": {
      "text/html": [
       "<div>\n",
       "<style scoped>\n",
       "    .dataframe tbody tr th:only-of-type {\n",
       "        vertical-align: middle;\n",
       "    }\n",
       "\n",
       "    .dataframe tbody tr th {\n",
       "        vertical-align: top;\n",
       "    }\n",
       "\n",
       "    .dataframe thead th {\n",
       "        text-align: right;\n",
       "    }\n",
       "</style>\n",
       "<table border=\"1\" class=\"dataframe\">\n",
       "  <thead>\n",
       "    <tr style=\"text-align: right;\">\n",
       "      <th></th>\n",
       "      <th>tweet_id</th>\n",
       "      <th>in_reply_to_status_id</th>\n",
       "      <th>in_reply_to_user_id</th>\n",
       "      <th>retweeted_status_id</th>\n",
       "      <th>retweeted_status_user_id</th>\n",
       "      <th>rating_numerator</th>\n",
       "      <th>rating_denominator</th>\n",
       "    </tr>\n",
       "  </thead>\n",
       "  <tbody>\n",
       "    <tr>\n",
       "      <th>count</th>\n",
       "      <td>2.356000e+03</td>\n",
       "      <td>7.800000e+01</td>\n",
       "      <td>7.800000e+01</td>\n",
       "      <td>1.810000e+02</td>\n",
       "      <td>1.810000e+02</td>\n",
       "      <td>2356.000000</td>\n",
       "      <td>2356.000000</td>\n",
       "    </tr>\n",
       "    <tr>\n",
       "      <th>mean</th>\n",
       "      <td>7.427716e+17</td>\n",
       "      <td>7.455079e+17</td>\n",
       "      <td>2.014171e+16</td>\n",
       "      <td>7.720400e+17</td>\n",
       "      <td>1.241698e+16</td>\n",
       "      <td>13.126486</td>\n",
       "      <td>10.455433</td>\n",
       "    </tr>\n",
       "    <tr>\n",
       "      <th>std</th>\n",
       "      <td>6.856705e+16</td>\n",
       "      <td>7.582492e+16</td>\n",
       "      <td>1.252797e+17</td>\n",
       "      <td>6.236928e+16</td>\n",
       "      <td>9.599254e+16</td>\n",
       "      <td>45.876648</td>\n",
       "      <td>6.745237</td>\n",
       "    </tr>\n",
       "    <tr>\n",
       "      <th>min</th>\n",
       "      <td>6.660209e+17</td>\n",
       "      <td>6.658147e+17</td>\n",
       "      <td>1.185634e+07</td>\n",
       "      <td>6.661041e+17</td>\n",
       "      <td>7.832140e+05</td>\n",
       "      <td>0.000000</td>\n",
       "      <td>0.000000</td>\n",
       "    </tr>\n",
       "    <tr>\n",
       "      <th>25%</th>\n",
       "      <td>6.783989e+17</td>\n",
       "      <td>6.757419e+17</td>\n",
       "      <td>3.086374e+08</td>\n",
       "      <td>7.186315e+17</td>\n",
       "      <td>4.196984e+09</td>\n",
       "      <td>10.000000</td>\n",
       "      <td>10.000000</td>\n",
       "    </tr>\n",
       "    <tr>\n",
       "      <th>50%</th>\n",
       "      <td>7.196279e+17</td>\n",
       "      <td>7.038708e+17</td>\n",
       "      <td>4.196984e+09</td>\n",
       "      <td>7.804657e+17</td>\n",
       "      <td>4.196984e+09</td>\n",
       "      <td>11.000000</td>\n",
       "      <td>10.000000</td>\n",
       "    </tr>\n",
       "    <tr>\n",
       "      <th>75%</th>\n",
       "      <td>7.993373e+17</td>\n",
       "      <td>8.257804e+17</td>\n",
       "      <td>4.196984e+09</td>\n",
       "      <td>8.203146e+17</td>\n",
       "      <td>4.196984e+09</td>\n",
       "      <td>12.000000</td>\n",
       "      <td>10.000000</td>\n",
       "    </tr>\n",
       "    <tr>\n",
       "      <th>max</th>\n",
       "      <td>8.924206e+17</td>\n",
       "      <td>8.862664e+17</td>\n",
       "      <td>8.405479e+17</td>\n",
       "      <td>8.874740e+17</td>\n",
       "      <td>7.874618e+17</td>\n",
       "      <td>1776.000000</td>\n",
       "      <td>170.000000</td>\n",
       "    </tr>\n",
       "  </tbody>\n",
       "</table>\n",
       "</div>"
      ],
      "text/plain": [
       "           tweet_id  in_reply_to_status_id  in_reply_to_user_id  \\\n",
       "count  2.356000e+03           7.800000e+01         7.800000e+01   \n",
       "mean   7.427716e+17           7.455079e+17         2.014171e+16   \n",
       "std    6.856705e+16           7.582492e+16         1.252797e+17   \n",
       "min    6.660209e+17           6.658147e+17         1.185634e+07   \n",
       "25%    6.783989e+17           6.757419e+17         3.086374e+08   \n",
       "50%    7.196279e+17           7.038708e+17         4.196984e+09   \n",
       "75%    7.993373e+17           8.257804e+17         4.196984e+09   \n",
       "max    8.924206e+17           8.862664e+17         8.405479e+17   \n",
       "\n",
       "       retweeted_status_id  retweeted_status_user_id  rating_numerator  \\\n",
       "count         1.810000e+02              1.810000e+02       2356.000000   \n",
       "mean          7.720400e+17              1.241698e+16         13.126486   \n",
       "std           6.236928e+16              9.599254e+16         45.876648   \n",
       "min           6.661041e+17              7.832140e+05          0.000000   \n",
       "25%           7.186315e+17              4.196984e+09         10.000000   \n",
       "50%           7.804657e+17              4.196984e+09         11.000000   \n",
       "75%           8.203146e+17              4.196984e+09         12.000000   \n",
       "max           8.874740e+17              7.874618e+17       1776.000000   \n",
       "\n",
       "       rating_denominator  \n",
       "count         2356.000000  \n",
       "mean            10.455433  \n",
       "std              6.745237  \n",
       "min              0.000000  \n",
       "25%             10.000000  \n",
       "50%             10.000000  \n",
       "75%             10.000000  \n",
       "max            170.000000  "
      ]
     },
     "execution_count": 18,
     "metadata": {},
     "output_type": "execute_result"
    }
   ],
   "source": [
    "twitter_arc.describe()"
   ]
  },
  {
   "cell_type": "code",
   "execution_count": 19,
   "metadata": {},
   "outputs": [
    {
     "data": {
      "text/html": [
       "<div>\n",
       "<style scoped>\n",
       "    .dataframe tbody tr th:only-of-type {\n",
       "        vertical-align: middle;\n",
       "    }\n",
       "\n",
       "    .dataframe tbody tr th {\n",
       "        vertical-align: top;\n",
       "    }\n",
       "\n",
       "    .dataframe thead th {\n",
       "        text-align: right;\n",
       "    }\n",
       "</style>\n",
       "<table border=\"1\" class=\"dataframe\">\n",
       "  <thead>\n",
       "    <tr style=\"text-align: right;\">\n",
       "      <th></th>\n",
       "      <th>tweet_id</th>\n",
       "      <th>jpg_url</th>\n",
       "      <th>img_num</th>\n",
       "      <th>p1</th>\n",
       "      <th>p1_conf</th>\n",
       "      <th>p1_dog</th>\n",
       "      <th>p2</th>\n",
       "      <th>p2_conf</th>\n",
       "      <th>p2_dog</th>\n",
       "      <th>p3</th>\n",
       "      <th>p3_conf</th>\n",
       "      <th>p3_dog</th>\n",
       "    </tr>\n",
       "  </thead>\n",
       "  <tbody>\n",
       "    <tr>\n",
       "      <th>0</th>\n",
       "      <td>666020888022790149</td>\n",
       "      <td>https://pbs.twimg.com/media/CT4udn0WwAA0aMy.jpg</td>\n",
       "      <td>1</td>\n",
       "      <td>Welsh_springer_spaniel</td>\n",
       "      <td>0.465074</td>\n",
       "      <td>True</td>\n",
       "      <td>collie</td>\n",
       "      <td>0.156665</td>\n",
       "      <td>True</td>\n",
       "      <td>Shetland_sheepdog</td>\n",
       "      <td>0.061428</td>\n",
       "      <td>True</td>\n",
       "    </tr>\n",
       "    <tr>\n",
       "      <th>1</th>\n",
       "      <td>666029285002620928</td>\n",
       "      <td>https://pbs.twimg.com/media/CT42GRgUYAA5iDo.jpg</td>\n",
       "      <td>1</td>\n",
       "      <td>redbone</td>\n",
       "      <td>0.506826</td>\n",
       "      <td>True</td>\n",
       "      <td>miniature_pinscher</td>\n",
       "      <td>0.074192</td>\n",
       "      <td>True</td>\n",
       "      <td>Rhodesian_ridgeback</td>\n",
       "      <td>0.072010</td>\n",
       "      <td>True</td>\n",
       "    </tr>\n",
       "    <tr>\n",
       "      <th>2</th>\n",
       "      <td>666033412701032449</td>\n",
       "      <td>https://pbs.twimg.com/media/CT4521TWwAEvMyu.jpg</td>\n",
       "      <td>1</td>\n",
       "      <td>German_shepherd</td>\n",
       "      <td>0.596461</td>\n",
       "      <td>True</td>\n",
       "      <td>malinois</td>\n",
       "      <td>0.138584</td>\n",
       "      <td>True</td>\n",
       "      <td>bloodhound</td>\n",
       "      <td>0.116197</td>\n",
       "      <td>True</td>\n",
       "    </tr>\n",
       "    <tr>\n",
       "      <th>3</th>\n",
       "      <td>666044226329800704</td>\n",
       "      <td>https://pbs.twimg.com/media/CT5Dr8HUEAA-lEu.jpg</td>\n",
       "      <td>1</td>\n",
       "      <td>Rhodesian_ridgeback</td>\n",
       "      <td>0.408143</td>\n",
       "      <td>True</td>\n",
       "      <td>redbone</td>\n",
       "      <td>0.360687</td>\n",
       "      <td>True</td>\n",
       "      <td>miniature_pinscher</td>\n",
       "      <td>0.222752</td>\n",
       "      <td>True</td>\n",
       "    </tr>\n",
       "    <tr>\n",
       "      <th>4</th>\n",
       "      <td>666049248165822465</td>\n",
       "      <td>https://pbs.twimg.com/media/CT5IQmsXIAAKY4A.jpg</td>\n",
       "      <td>1</td>\n",
       "      <td>miniature_pinscher</td>\n",
       "      <td>0.560311</td>\n",
       "      <td>True</td>\n",
       "      <td>Rottweiler</td>\n",
       "      <td>0.243682</td>\n",
       "      <td>True</td>\n",
       "      <td>Doberman</td>\n",
       "      <td>0.154629</td>\n",
       "      <td>True</td>\n",
       "    </tr>\n",
       "  </tbody>\n",
       "</table>\n",
       "</div>"
      ],
      "text/plain": [
       "             tweet_id                                          jpg_url  \\\n",
       "0  666020888022790149  https://pbs.twimg.com/media/CT4udn0WwAA0aMy.jpg   \n",
       "1  666029285002620928  https://pbs.twimg.com/media/CT42GRgUYAA5iDo.jpg   \n",
       "2  666033412701032449  https://pbs.twimg.com/media/CT4521TWwAEvMyu.jpg   \n",
       "3  666044226329800704  https://pbs.twimg.com/media/CT5Dr8HUEAA-lEu.jpg   \n",
       "4  666049248165822465  https://pbs.twimg.com/media/CT5IQmsXIAAKY4A.jpg   \n",
       "\n",
       "   img_num                      p1   p1_conf  p1_dog                  p2  \\\n",
       "0        1  Welsh_springer_spaniel  0.465074    True              collie   \n",
       "1        1                 redbone  0.506826    True  miniature_pinscher   \n",
       "2        1         German_shepherd  0.596461    True            malinois   \n",
       "3        1     Rhodesian_ridgeback  0.408143    True             redbone   \n",
       "4        1      miniature_pinscher  0.560311    True          Rottweiler   \n",
       "\n",
       "    p2_conf  p2_dog                   p3   p3_conf  p3_dog  \n",
       "0  0.156665    True    Shetland_sheepdog  0.061428    True  \n",
       "1  0.074192    True  Rhodesian_ridgeback  0.072010    True  \n",
       "2  0.138584    True           bloodhound  0.116197    True  \n",
       "3  0.360687    True   miniature_pinscher  0.222752    True  \n",
       "4  0.243682    True             Doberman  0.154629    True  "
      ]
     },
     "execution_count": 19,
     "metadata": {},
     "output_type": "execute_result"
    }
   ],
   "source": [
    "image_prediction.head()"
   ]
  },
  {
   "cell_type": "code",
   "execution_count": 20,
   "metadata": {},
   "outputs": [
    {
     "data": {
      "text/plain": [
       "(2075, 12)"
      ]
     },
     "execution_count": 20,
     "metadata": {},
     "output_type": "execute_result"
    }
   ],
   "source": [
    "image_prediction.shape\n"
   ]
  },
  {
   "cell_type": "code",
   "execution_count": 21,
   "metadata": {
    "scrolled": true
   },
   "outputs": [
    {
     "data": {
      "text/html": [
       "<div>\n",
       "<style scoped>\n",
       "    .dataframe tbody tr th:only-of-type {\n",
       "        vertical-align: middle;\n",
       "    }\n",
       "\n",
       "    .dataframe tbody tr th {\n",
       "        vertical-align: top;\n",
       "    }\n",
       "\n",
       "    .dataframe thead th {\n",
       "        text-align: right;\n",
       "    }\n",
       "</style>\n",
       "<table border=\"1\" class=\"dataframe\">\n",
       "  <thead>\n",
       "    <tr style=\"text-align: right;\">\n",
       "      <th></th>\n",
       "      <th>tweet_id</th>\n",
       "      <th>img_num</th>\n",
       "      <th>p1_conf</th>\n",
       "      <th>p2_conf</th>\n",
       "      <th>p3_conf</th>\n",
       "    </tr>\n",
       "  </thead>\n",
       "  <tbody>\n",
       "    <tr>\n",
       "      <th>count</th>\n",
       "      <td>2.075000e+03</td>\n",
       "      <td>2075.000000</td>\n",
       "      <td>2075.000000</td>\n",
       "      <td>2.075000e+03</td>\n",
       "      <td>2.075000e+03</td>\n",
       "    </tr>\n",
       "    <tr>\n",
       "      <th>mean</th>\n",
       "      <td>7.384514e+17</td>\n",
       "      <td>1.203855</td>\n",
       "      <td>0.594548</td>\n",
       "      <td>1.345886e-01</td>\n",
       "      <td>6.032417e-02</td>\n",
       "    </tr>\n",
       "    <tr>\n",
       "      <th>std</th>\n",
       "      <td>6.785203e+16</td>\n",
       "      <td>0.561875</td>\n",
       "      <td>0.271174</td>\n",
       "      <td>1.006657e-01</td>\n",
       "      <td>5.090593e-02</td>\n",
       "    </tr>\n",
       "    <tr>\n",
       "      <th>min</th>\n",
       "      <td>6.660209e+17</td>\n",
       "      <td>1.000000</td>\n",
       "      <td>0.044333</td>\n",
       "      <td>1.011300e-08</td>\n",
       "      <td>1.740170e-10</td>\n",
       "    </tr>\n",
       "    <tr>\n",
       "      <th>25%</th>\n",
       "      <td>6.764835e+17</td>\n",
       "      <td>1.000000</td>\n",
       "      <td>0.364412</td>\n",
       "      <td>5.388625e-02</td>\n",
       "      <td>1.622240e-02</td>\n",
       "    </tr>\n",
       "    <tr>\n",
       "      <th>50%</th>\n",
       "      <td>7.119988e+17</td>\n",
       "      <td>1.000000</td>\n",
       "      <td>0.588230</td>\n",
       "      <td>1.181810e-01</td>\n",
       "      <td>4.944380e-02</td>\n",
       "    </tr>\n",
       "    <tr>\n",
       "      <th>75%</th>\n",
       "      <td>7.932034e+17</td>\n",
       "      <td>1.000000</td>\n",
       "      <td>0.843855</td>\n",
       "      <td>1.955655e-01</td>\n",
       "      <td>9.180755e-02</td>\n",
       "    </tr>\n",
       "    <tr>\n",
       "      <th>max</th>\n",
       "      <td>8.924206e+17</td>\n",
       "      <td>4.000000</td>\n",
       "      <td>1.000000</td>\n",
       "      <td>4.880140e-01</td>\n",
       "      <td>2.734190e-01</td>\n",
       "    </tr>\n",
       "  </tbody>\n",
       "</table>\n",
       "</div>"
      ],
      "text/plain": [
       "           tweet_id      img_num      p1_conf       p2_conf       p3_conf\n",
       "count  2.075000e+03  2075.000000  2075.000000  2.075000e+03  2.075000e+03\n",
       "mean   7.384514e+17     1.203855     0.594548  1.345886e-01  6.032417e-02\n",
       "std    6.785203e+16     0.561875     0.271174  1.006657e-01  5.090593e-02\n",
       "min    6.660209e+17     1.000000     0.044333  1.011300e-08  1.740170e-10\n",
       "25%    6.764835e+17     1.000000     0.364412  5.388625e-02  1.622240e-02\n",
       "50%    7.119988e+17     1.000000     0.588230  1.181810e-01  4.944380e-02\n",
       "75%    7.932034e+17     1.000000     0.843855  1.955655e-01  9.180755e-02\n",
       "max    8.924206e+17     4.000000     1.000000  4.880140e-01  2.734190e-01"
      ]
     },
     "execution_count": 21,
     "metadata": {},
     "output_type": "execute_result"
    }
   ],
   "source": [
    "image_prediction.describe()"
   ]
  },
  {
   "cell_type": "code",
   "execution_count": 22,
   "metadata": {},
   "outputs": [
    {
     "name": "stdout",
     "output_type": "stream",
     "text": [
      "<class 'pandas.core.frame.DataFrame'>\n",
      "RangeIndex: 2075 entries, 0 to 2074\n",
      "Data columns (total 12 columns):\n",
      "tweet_id    2075 non-null int64\n",
      "jpg_url     2075 non-null object\n",
      "img_num     2075 non-null int64\n",
      "p1          2075 non-null object\n",
      "p1_conf     2075 non-null float64\n",
      "p1_dog      2075 non-null bool\n",
      "p2          2075 non-null object\n",
      "p2_conf     2075 non-null float64\n",
      "p2_dog      2075 non-null bool\n",
      "p3          2075 non-null object\n",
      "p3_conf     2075 non-null float64\n",
      "p3_dog      2075 non-null bool\n",
      "dtypes: bool(3), float64(3), int64(2), object(4)\n",
      "memory usage: 152.1+ KB\n"
     ]
    }
   ],
   "source": [
    "image_prediction.info()"
   ]
  },
  {
   "cell_type": "code",
   "execution_count": 23,
   "metadata": {
    "scrolled": true
   },
   "outputs": [
    {
     "name": "stdout",
     "output_type": "stream",
     "text": [
      "<class 'pandas.core.frame.DataFrame'>\n",
      "RangeIndex: 2354 entries, 0 to 2353\n",
      "Data columns (total 3 columns):\n",
      "id                2354 non-null int64\n",
      "retweet_count     2354 non-null int64\n",
      "favorite_count    2354 non-null int64\n",
      "dtypes: int64(3)\n",
      "memory usage: 55.2 KB\n"
     ]
    }
   ],
   "source": [
    "extra_twitter_data.info()"
   ]
  },
  {
   "cell_type": "code",
   "execution_count": 24,
   "metadata": {
    "scrolled": false
   },
   "outputs": [],
   "source": [
    "# renaming id column to be the same with other dataframes\n",
    "extra_twitter_data.rename(columns={'id':'tweet_id'},inplace= True)\n"
   ]
  },
  {
   "cell_type": "code",
   "execution_count": 25,
   "metadata": {},
   "outputs": [
    {
     "data": {
      "text/html": [
       "<div>\n",
       "<style scoped>\n",
       "    .dataframe tbody tr th:only-of-type {\n",
       "        vertical-align: middle;\n",
       "    }\n",
       "\n",
       "    .dataframe tbody tr th {\n",
       "        vertical-align: top;\n",
       "    }\n",
       "\n",
       "    .dataframe thead th {\n",
       "        text-align: right;\n",
       "    }\n",
       "</style>\n",
       "<table border=\"1\" class=\"dataframe\">\n",
       "  <thead>\n",
       "    <tr style=\"text-align: right;\">\n",
       "      <th></th>\n",
       "      <th>tweet_id</th>\n",
       "      <th>retweet_count</th>\n",
       "      <th>favorite_count</th>\n",
       "    </tr>\n",
       "  </thead>\n",
       "  <tbody>\n",
       "    <tr>\n",
       "      <th>count</th>\n",
       "      <td>2.354000e+03</td>\n",
       "      <td>2354.000000</td>\n",
       "      <td>2354.000000</td>\n",
       "    </tr>\n",
       "    <tr>\n",
       "      <th>mean</th>\n",
       "      <td>7.426978e+17</td>\n",
       "      <td>3164.797366</td>\n",
       "      <td>8080.968564</td>\n",
       "    </tr>\n",
       "    <tr>\n",
       "      <th>std</th>\n",
       "      <td>6.852812e+16</td>\n",
       "      <td>5284.770364</td>\n",
       "      <td>11814.771334</td>\n",
       "    </tr>\n",
       "    <tr>\n",
       "      <th>min</th>\n",
       "      <td>6.660209e+17</td>\n",
       "      <td>0.000000</td>\n",
       "      <td>0.000000</td>\n",
       "    </tr>\n",
       "    <tr>\n",
       "      <th>25%</th>\n",
       "      <td>6.783975e+17</td>\n",
       "      <td>624.500000</td>\n",
       "      <td>1415.000000</td>\n",
       "    </tr>\n",
       "    <tr>\n",
       "      <th>50%</th>\n",
       "      <td>7.194596e+17</td>\n",
       "      <td>1473.500000</td>\n",
       "      <td>3603.500000</td>\n",
       "    </tr>\n",
       "    <tr>\n",
       "      <th>75%</th>\n",
       "      <td>7.993058e+17</td>\n",
       "      <td>3652.000000</td>\n",
       "      <td>10122.250000</td>\n",
       "    </tr>\n",
       "    <tr>\n",
       "      <th>max</th>\n",
       "      <td>8.924206e+17</td>\n",
       "      <td>79515.000000</td>\n",
       "      <td>132810.000000</td>\n",
       "    </tr>\n",
       "  </tbody>\n",
       "</table>\n",
       "</div>"
      ],
      "text/plain": [
       "           tweet_id  retweet_count  favorite_count\n",
       "count  2.354000e+03    2354.000000     2354.000000\n",
       "mean   7.426978e+17    3164.797366     8080.968564\n",
       "std    6.852812e+16    5284.770364    11814.771334\n",
       "min    6.660209e+17       0.000000        0.000000\n",
       "25%    6.783975e+17     624.500000     1415.000000\n",
       "50%    7.194596e+17    1473.500000     3603.500000\n",
       "75%    7.993058e+17    3652.000000    10122.250000\n",
       "max    8.924206e+17   79515.000000   132810.000000"
      ]
     },
     "execution_count": 25,
     "metadata": {},
     "output_type": "execute_result"
    }
   ],
   "source": [
    "extra_twitter_data.describe()\n"
   ]
  },
  {
   "cell_type": "markdown",
   "metadata": {},
   "source": [
    "### Quality issues\n",
    "1. Some data in columns  have lots of missing values. They include\n",
    "    + in_reply_to_status_id.\n",
    "    + in_reply_to_user_id.\n",
    "    + retweeted_status_id.\n",
    "    + retweeted_status_id.\n",
    "    + retweeted_status_user_id.\n",
    "    + retweeted_status_timestamp.\n",
    "    \n",
    "         \n",
    "2. time_stamp is of wrong datatype: object instead of datetime\n",
    "\n",
    "\n",
    "3. Some values in text column are retweets and do not want retweets\n",
    "\n",
    "\n",
    "4. The rating_denominator column has some anomalies eg some are 50,2,170 etc when should be 10\n",
    "\n",
    "\n",
    "5. The expanded_url column has repeated data, some of the url are duplicated in the same cell. (visual assessment)\n",
    "\n",
    "\n",
    "6. Certain outliers observed in the rating_numerator column\n",
    "\n",
    "\n",
    "7. The source column is not properly formatted. the html tags needs to be removed.\n",
    "\n",
    "\n",
    "8. In the name column, some names are a bit unclear like 'a','an, 'the','quite'.\n"
   ]
  },
  {
   "cell_type": "markdown",
   "metadata": {
    "extensions": {
     "jupyter_dashboards": {
      "version": 1,
      "views": {
       "grid_default": {
        "col": 0,
        "height": 7,
        "hidden": false,
        "row": 40,
        "width": 12
       },
       "report_default": {
        "hidden": false
       }
      }
     }
    }
   },
   "source": [
    "### Tidiness issues\n",
    "1. The text column in has more than one form of data in one column eg tweet, rating, url.(visual assessment)\n",
    "\n",
    "2. We perform an inner join between datasets in order to get one dataset\n",
    "3. The dog stages are not tidy each column represents the same variable. so we create a column **dog_stages** containing the stages in one column"
   ]
  },
  {
   "cell_type": "markdown",
   "metadata": {
    "extensions": {
     "jupyter_dashboards": {
      "version": 1,
      "views": {
       "grid_default": {
        "col": 4,
        "height": 4,
        "hidden": false,
        "row": 32,
        "width": 4
       },
       "report_default": {
        "hidden": false
       }
      }
     }
    }
   },
   "source": [
    "## Cleaning Data\n",
    "In this section, clean **all** of the issues you documented while assessing. \n",
    "\n",
    "**Note:** Make a copy of the original data before cleaning. Cleaning includes merging individual pieces of data according to the rules of [tidy data](https://cran.r-project.org/web/packages/tidyr/vignettes/tidy-data.html). The result should be a high-quality and tidy master pandas DataFrame (or DataFrames, if appropriate)."
   ]
  },
  {
   "cell_type": "code",
   "execution_count": 26,
   "metadata": {},
   "outputs": [],
   "source": [
    "# Make copies of original pieces of data\n",
    "twitter_arc_clean= twitter_arc.copy()\n",
    "image_prediction_clean = image_prediction.copy()\n",
    "extra_twitter_data_clean = extra_twitter_data.copy()"
   ]
  },
  {
   "cell_type": "code",
   "execution_count": 27,
   "metadata": {},
   "outputs": [],
   "source": [
    "# We merge the dataframes to ensure that only the those that have images are left. to do this, we use inner join\n",
    "#we first merge image_prediction_clean and twitter_arc_clean\n",
    "merged_set = pd.merge(image_prediction_clean,twitter_arc_clean, on=['tweet_id'], how= 'inner')"
   ]
  },
  {
   "cell_type": "code",
   "execution_count": 28,
   "metadata": {},
   "outputs": [
    {
     "data": {
      "text/plain": [
       "(2075, 28)"
      ]
     },
     "execution_count": 28,
     "metadata": {},
     "output_type": "execute_result"
    }
   ],
   "source": [
    "merged_set.shape"
   ]
  },
  {
   "cell_type": "markdown",
   "metadata": {},
   "source": [
    "The merged_set now contains all the data that actually have images since jpg_url column has no missing data in image prediction has images"
   ]
  },
  {
   "cell_type": "code",
   "execution_count": 29,
   "metadata": {},
   "outputs": [],
   "source": [
    "#merging the extra_data_clean to the merged_set\n",
    "merged_clean= pd.merge(merged_set,extra_twitter_data_clean, on=['tweet_id'], how= 'left')"
   ]
  },
  {
   "cell_type": "code",
   "execution_count": 30,
   "metadata": {},
   "outputs": [
    {
     "data": {
      "text/plain": [
       "(2075, 30)"
      ]
     },
     "execution_count": 30,
     "metadata": {},
     "output_type": "execute_result"
    }
   ],
   "source": [
    "merged_clean.shape"
   ]
  },
  {
   "cell_type": "code",
   "execution_count": 31,
   "metadata": {},
   "outputs": [
    {
     "name": "stdout",
     "output_type": "stream",
     "text": [
      "<class 'pandas.core.frame.DataFrame'>\n",
      "Int64Index: 2075 entries, 0 to 2074\n",
      "Data columns (total 30 columns):\n",
      "tweet_id                      2075 non-null int64\n",
      "jpg_url                       2075 non-null object\n",
      "img_num                       2075 non-null int64\n",
      "p1                            2075 non-null object\n",
      "p1_conf                       2075 non-null float64\n",
      "p1_dog                        2075 non-null bool\n",
      "p2                            2075 non-null object\n",
      "p2_conf                       2075 non-null float64\n",
      "p2_dog                        2075 non-null bool\n",
      "p3                            2075 non-null object\n",
      "p3_conf                       2075 non-null float64\n",
      "p3_dog                        2075 non-null bool\n",
      "in_reply_to_status_id         23 non-null float64\n",
      "in_reply_to_user_id           23 non-null float64\n",
      "timestamp                     2075 non-null object\n",
      "source                        2075 non-null object\n",
      "text                          2075 non-null object\n",
      "retweeted_status_id           81 non-null float64\n",
      "retweeted_status_user_id      81 non-null float64\n",
      "retweeted_status_timestamp    81 non-null object\n",
      "expanded_urls                 2075 non-null object\n",
      "rating_numerator              2075 non-null int64\n",
      "rating_denominator            2075 non-null int64\n",
      "name                          2075 non-null object\n",
      "doggo                         2075 non-null object\n",
      "floofer                       2075 non-null object\n",
      "pupper                        2075 non-null object\n",
      "puppo                         2075 non-null object\n",
      "retweet_count                 2073 non-null float64\n",
      "favorite_count                2073 non-null float64\n",
      "dtypes: bool(3), float64(9), int64(4), object(14)\n",
      "memory usage: 460.0+ KB\n"
     ]
    }
   ],
   "source": [
    "merged_clean.info()"
   ]
  },
  {
   "cell_type": "markdown",
   "metadata": {},
   "source": [
    "We still observe retweet_count and favorite_count having 2 missing values"
   ]
  },
  {
   "cell_type": "markdown",
   "metadata": {},
   "source": [
    "### Issue #1: Some data  columns  have lots of missing values.\n",
    "    + in_reply_to_status_id.\n",
    "    + in_reply_to_user_id.\n",
    "    + retweeted_status_id.\n",
    "    + retweeted_status_user_id.\n",
    "    + retweeted_status_timestamp."
   ]
  },
  {
   "cell_type": "markdown",
   "metadata": {},
   "source": [
    "#### Define:\n",
    "#### The number of missing values are more than 50% of the overall count\n",
    "#### The columns do not are related to original tweets \n"
   ]
  },
  {
   "cell_type": "markdown",
   "metadata": {},
   "source": [
    "#### Code"
   ]
  },
  {
   "cell_type": "code",
   "execution_count": 32,
   "metadata": {},
   "outputs": [],
   "source": [
    "# Dropping the column\n",
    "merged_clean.drop('in_reply_to_status_id',axis = 1, inplace= True)\n",
    "\n",
    "merged_clean.drop('in_reply_to_user_id',axis = 1, inplace= True)\n",
    "merged_clean.drop('retweeted_status_id',axis = 1, inplace= True)\n",
    "merged_clean.drop('retweeted_status_user_id',axis = 1, inplace= True)\n",
    "merged_clean.drop('retweeted_status_timestamp',axis = 1, inplace= True)\n"
   ]
  },
  {
   "cell_type": "markdown",
   "metadata": {},
   "source": [
    "#### Test"
   ]
  },
  {
   "cell_type": "code",
   "execution_count": 33,
   "metadata": {
    "scrolled": true
   },
   "outputs": [
    {
     "name": "stdout",
     "output_type": "stream",
     "text": [
      "<class 'pandas.core.frame.DataFrame'>\n",
      "Int64Index: 2075 entries, 0 to 2074\n",
      "Data columns (total 25 columns):\n",
      "tweet_id              2075 non-null int64\n",
      "jpg_url               2075 non-null object\n",
      "img_num               2075 non-null int64\n",
      "p1                    2075 non-null object\n",
      "p1_conf               2075 non-null float64\n",
      "p1_dog                2075 non-null bool\n",
      "p2                    2075 non-null object\n",
      "p2_conf               2075 non-null float64\n",
      "p2_dog                2075 non-null bool\n",
      "p3                    2075 non-null object\n",
      "p3_conf               2075 non-null float64\n",
      "p3_dog                2075 non-null bool\n",
      "timestamp             2075 non-null object\n",
      "source                2075 non-null object\n",
      "text                  2075 non-null object\n",
      "expanded_urls         2075 non-null object\n",
      "rating_numerator      2075 non-null int64\n",
      "rating_denominator    2075 non-null int64\n",
      "name                  2075 non-null object\n",
      "doggo                 2075 non-null object\n",
      "floofer               2075 non-null object\n",
      "pupper                2075 non-null object\n",
      "puppo                 2075 non-null object\n",
      "retweet_count         2073 non-null float64\n",
      "favorite_count        2073 non-null float64\n",
      "dtypes: bool(3), float64(5), int64(4), object(13)\n",
      "memory usage: 378.9+ KB\n"
     ]
    }
   ],
   "source": [
    "merged_clean.info()"
   ]
  },
  {
   "cell_type": "markdown",
   "metadata": {},
   "source": [
    "The affected columns are no longer in the dataset"
   ]
  },
  {
   "cell_type": "markdown",
   "metadata": {},
   "source": [
    "### Issue #2: time_stamp  is of wrong datatype: object instead of datetime"
   ]
  },
  {
   "cell_type": "markdown",
   "metadata": {
    "collapsed": true,
    "extensions": {
     "jupyter_dashboards": {
      "version": 1,
      "views": {
       "grid_default": {
        "hidden": true
       },
       "report_default": {
        "hidden": true
       }
      }
     }
    }
   },
   "source": [
    "#### Define\n",
    "#### We simply convert the datatype from object to datetime using pd.to_datetime"
   ]
  },
  {
   "cell_type": "markdown",
   "metadata": {},
   "source": [
    "#### Code"
   ]
  },
  {
   "cell_type": "code",
   "execution_count": 34,
   "metadata": {},
   "outputs": [],
   "source": [
    "merged_clean['timestamp'] = pd.to_datetime(merged_clean['timestamp']) #converting the column datatype to datetime"
   ]
  },
  {
   "cell_type": "markdown",
   "metadata": {},
   "source": [
    "#### Test"
   ]
  },
  {
   "cell_type": "code",
   "execution_count": 35,
   "metadata": {
    "scrolled": true
   },
   "outputs": [
    {
     "name": "stdout",
     "output_type": "stream",
     "text": [
      "<class 'pandas.core.frame.DataFrame'>\n",
      "Int64Index: 2075 entries, 0 to 2074\n",
      "Data columns (total 25 columns):\n",
      "tweet_id              2075 non-null int64\n",
      "jpg_url               2075 non-null object\n",
      "img_num               2075 non-null int64\n",
      "p1                    2075 non-null object\n",
      "p1_conf               2075 non-null float64\n",
      "p1_dog                2075 non-null bool\n",
      "p2                    2075 non-null object\n",
      "p2_conf               2075 non-null float64\n",
      "p2_dog                2075 non-null bool\n",
      "p3                    2075 non-null object\n",
      "p3_conf               2075 non-null float64\n",
      "p3_dog                2075 non-null bool\n",
      "timestamp             2075 non-null datetime64[ns]\n",
      "source                2075 non-null object\n",
      "text                  2075 non-null object\n",
      "expanded_urls         2075 non-null object\n",
      "rating_numerator      2075 non-null int64\n",
      "rating_denominator    2075 non-null int64\n",
      "name                  2075 non-null object\n",
      "doggo                 2075 non-null object\n",
      "floofer               2075 non-null object\n",
      "pupper                2075 non-null object\n",
      "puppo                 2075 non-null object\n",
      "retweet_count         2073 non-null float64\n",
      "favorite_count        2073 non-null float64\n",
      "dtypes: bool(3), datetime64[ns](1), float64(5), int64(4), object(12)\n",
      "memory usage: 378.9+ KB\n"
     ]
    }
   ],
   "source": [
    "merged_clean.info()"
   ]
  },
  {
   "cell_type": "markdown",
   "metadata": {},
   "source": [
    "The timestamp column is now in the right datatype datetime [ns]"
   ]
  },
  {
   "cell_type": "markdown",
   "metadata": {},
   "source": [
    "### Issue #3: Some values in text column in are retweets and we do not want retweets"
   ]
  },
  {
   "cell_type": "markdown",
   "metadata": {},
   "source": [
    "### Define: \n",
    "+ We will find text that contains RT and drop the rows"
   ]
  },
  {
   "cell_type": "markdown",
   "metadata": {},
   "source": [
    "### Code"
   ]
  },
  {
   "cell_type": "code",
   "execution_count": 36,
   "metadata": {},
   "outputs": [],
   "source": [
    "merged_RT= merged_clean[merged_clean['text'].str.match('(RT\\s@)')] #rows that are retweets"
   ]
  },
  {
   "cell_type": "code",
   "execution_count": 37,
   "metadata": {},
   "outputs": [],
   "source": [
    "merged_clean= merged_clean.drop(index = merged_RT.index) #dropping the retweets rows"
   ]
  },
  {
   "cell_type": "markdown",
   "metadata": {},
   "source": [
    "### Test"
   ]
  },
  {
   "cell_type": "code",
   "execution_count": 38,
   "metadata": {},
   "outputs": [
    {
     "name": "stdout",
     "output_type": "stream",
     "text": [
      "<class 'pandas.core.frame.DataFrame'>\n",
      "Int64Index: 1994 entries, 0 to 2074\n",
      "Data columns (total 25 columns):\n",
      "tweet_id              1994 non-null int64\n",
      "jpg_url               1994 non-null object\n",
      "img_num               1994 non-null int64\n",
      "p1                    1994 non-null object\n",
      "p1_conf               1994 non-null float64\n",
      "p1_dog                1994 non-null bool\n",
      "p2                    1994 non-null object\n",
      "p2_conf               1994 non-null float64\n",
      "p2_dog                1994 non-null bool\n",
      "p3                    1994 non-null object\n",
      "p3_conf               1994 non-null float64\n",
      "p3_dog                1994 non-null bool\n",
      "timestamp             1994 non-null datetime64[ns]\n",
      "source                1994 non-null object\n",
      "text                  1994 non-null object\n",
      "expanded_urls         1994 non-null object\n",
      "rating_numerator      1994 non-null int64\n",
      "rating_denominator    1994 non-null int64\n",
      "name                  1994 non-null object\n",
      "doggo                 1994 non-null object\n",
      "floofer               1994 non-null object\n",
      "pupper                1994 non-null object\n",
      "puppo                 1994 non-null object\n",
      "retweet_count         1994 non-null float64\n",
      "favorite_count        1994 non-null float64\n",
      "dtypes: bool(3), datetime64[ns](1), float64(5), int64(4), object(12)\n",
      "memory usage: 364.1+ KB\n"
     ]
    }
   ],
   "source": [
    "merged_clean.info()"
   ]
  },
  {
   "cell_type": "markdown",
   "metadata": {},
   "source": [
    "### Issue #4: The rating_denominator column ha some anomalies eg some are 50, 2, 170 etc when should be 10"
   ]
  },
  {
   "cell_type": "markdown",
   "metadata": {},
   "source": [
    "### Define: \n",
    "+ We simply populate those values with 10"
   ]
  },
  {
   "cell_type": "markdown",
   "metadata": {},
   "source": [
    "### Code"
   ]
  },
  {
   "cell_type": "code",
   "execution_count": 39,
   "metadata": {
    "scrolled": true
   },
   "outputs": [],
   "source": [
    "merged_clean.rating_denominator = 10 #populating the entire rating_denominator with 10\n"
   ]
  },
  {
   "cell_type": "markdown",
   "metadata": {},
   "source": [
    "### Test"
   ]
  },
  {
   "cell_type": "code",
   "execution_count": 40,
   "metadata": {},
   "outputs": [
    {
     "data": {
      "text/plain": [
       "10    1994\n",
       "Name: rating_denominator, dtype: int64"
      ]
     },
     "execution_count": 40,
     "metadata": {},
     "output_type": "execute_result"
    }
   ],
   "source": [
    "merged_clean.rating_denominator.value_counts()"
   ]
  },
  {
   "cell_type": "markdown",
   "metadata": {},
   "source": [
    "### Issue #5: The expanded_url column has repeated data, some of the url are duplicated in the same cell. (visual assessment)"
   ]
  },
  {
   "cell_type": "markdown",
   "metadata": {},
   "source": [
    "### Define:\n",
    "+ Use str.extract  method and pick only the first url in the expanded_urls column"
   ]
  },
  {
   "cell_type": "markdown",
   "metadata": {},
   "source": [
    "### Code"
   ]
  },
  {
   "cell_type": "code",
   "execution_count": 41,
   "metadata": {},
   "outputs": [
    {
     "data": {
      "text/plain": [
       "'https://twitter.com/dog_rates/status/668623201287675904/photo/1,https://twitter.com/dog_rates/status/668623201287675904/photo/1,https://twitter.com/dog_rates/status/668623201287675904/photo/1,https://twitter.com/dog_rates/status/668623201287675904/photo/1'"
      ]
     },
     "execution_count": 41,
     "metadata": {},
     "output_type": "execute_result"
    }
   ],
   "source": [
    "merged_clean.expanded_urls[144] #before cleaning"
   ]
  },
  {
   "cell_type": "code",
   "execution_count": 42,
   "metadata": {},
   "outputs": [
    {
     "data": {
      "text/plain": [
       "'https://twitter.com/dog_rates/status/668633411083464705/photo/1,https://twitter.com/dog_rates/status/668633411083464705/photo/1'"
      ]
     },
     "execution_count": 42,
     "metadata": {},
     "output_type": "execute_result"
    }
   ],
   "source": [
    "merged_clean.expanded_urls[148]"
   ]
  },
  {
   "cell_type": "code",
   "execution_count": 43,
   "metadata": {},
   "outputs": [],
   "source": [
    "#extracting only the first url in each cell of  expanded_urls\n",
    "merged_clean.expanded_urls = merged_clean.expanded_urls.str.extract('((https://twitter.com/dog_rates/status/)(\\d+\\/[a-z]+\\/[0-9]))')"
   ]
  },
  {
   "cell_type": "markdown",
   "metadata": {},
   "source": [
    "### Test"
   ]
  },
  {
   "cell_type": "code",
   "execution_count": 44,
   "metadata": {},
   "outputs": [
    {
     "data": {
      "text/plain": [
       "'https://twitter.com/dog_rates/status/668623201287675904/photo/1'"
      ]
     },
     "execution_count": 44,
     "metadata": {},
     "output_type": "execute_result"
    }
   ],
   "source": [
    "merged_clean.expanded_urls[144]"
   ]
  },
  {
   "cell_type": "code",
   "execution_count": 45,
   "metadata": {},
   "outputs": [
    {
     "data": {
      "text/plain": [
       "'https://twitter.com/dog_rates/status/668633411083464705/photo/1'"
      ]
     },
     "execution_count": 45,
     "metadata": {},
     "output_type": "execute_result"
    }
   ],
   "source": [
    "merged_clean.expanded_urls[148]"
   ]
  },
  {
   "cell_type": "markdown",
   "metadata": {},
   "source": [
    "The cells now has single value of url each"
   ]
  },
  {
   "cell_type": "markdown",
   "metadata": {},
   "source": [
    "### Issue #6:Certain outliers observed in the rating_numerator column\n",
    "Some values of extremely seem out of range"
   ]
  },
  {
   "cell_type": "code",
   "execution_count": 46,
   "metadata": {},
   "outputs": [
    {
     "data": {
      "text/plain": [
       "12      450\n",
       "10      419\n",
       "11      396\n",
       "13      261\n",
       "9       151\n",
       "8        95\n",
       "7        52\n",
       "14       35\n",
       "5        33\n",
       "6        32\n",
       "3        19\n",
       "4        16\n",
       "2         9\n",
       "1         5\n",
       "0         2\n",
       "420       1\n",
       "24        1\n",
       "1776      1\n",
       "27        1\n",
       "44        1\n",
       "45        1\n",
       "50        1\n",
       "60        1\n",
       "75        1\n",
       "80        1\n",
       "84        1\n",
       "88        1\n",
       "99        1\n",
       "121       1\n",
       "143       1\n",
       "144       1\n",
       "165       1\n",
       "204       1\n",
       "26        1\n",
       "Name: rating_numerator, dtype: int64"
      ]
     },
     "execution_count": 46,
     "metadata": {},
     "output_type": "execute_result"
    }
   ],
   "source": [
    "merged_clean.rating_numerator.value_counts()\n"
   ]
  },
  {
   "cell_type": "markdown",
   "metadata": {},
   "source": [
    "### Define: We drop the ratings from 24 and above"
   ]
  },
  {
   "cell_type": "markdown",
   "metadata": {},
   "source": [
    "### Code"
   ]
  },
  {
   "cell_type": "code",
   "execution_count": 47,
   "metadata": {},
   "outputs": [],
   "source": [
    "merged_clean = merged_clean[merged_clean['rating_numerator']<24]\n"
   ]
  },
  {
   "cell_type": "markdown",
   "metadata": {},
   "source": [
    "### Test"
   ]
  },
  {
   "cell_type": "code",
   "execution_count": 48,
   "metadata": {},
   "outputs": [
    {
     "data": {
      "text/plain": [
       "12    450\n",
       "10    419\n",
       "11    396\n",
       "13    261\n",
       "9     151\n",
       "8      95\n",
       "7      52\n",
       "14     35\n",
       "5      33\n",
       "6      32\n",
       "3      19\n",
       "4      16\n",
       "2       9\n",
       "1       5\n",
       "0       2\n",
       "Name: rating_numerator, dtype: int64"
      ]
     },
     "execution_count": 48,
     "metadata": {},
     "output_type": "execute_result"
    }
   ],
   "source": [
    "merged_clean.rating_numerator.value_counts()"
   ]
  },
  {
   "cell_type": "markdown",
   "metadata": {},
   "source": [
    "The outliers has been dropped"
   ]
  },
  {
   "cell_type": "markdown",
   "metadata": {},
   "source": [
    "### Issue #7: The source column is not properly formatted. the html tags needs to be removed."
   ]
  },
  {
   "cell_type": "markdown",
   "metadata": {},
   "source": [
    "### Define: We simply use str.extract and extract specific strings of interest"
   ]
  },
  {
   "cell_type": "markdown",
   "metadata": {},
   "source": [
    "### Code"
   ]
  },
  {
   "cell_type": "code",
   "execution_count": 49,
   "metadata": {},
   "outputs": [
    {
     "data": {
      "text/plain": [
       "<a href=\"http://twitter.com/download/iphone\" rel=\"nofollow\">Twitter for iPhone</a>     1937\n",
       "<a href=\"http://twitter.com\" rel=\"nofollow\">Twitter Web Client</a>                       28\n",
       "<a href=\"https://about.twitter.com/products/tweetdeck\" rel=\"nofollow\">TweetDeck</a>      10\n",
       "Name: source, dtype: int64"
      ]
     },
     "execution_count": 49,
     "metadata": {},
     "output_type": "execute_result"
    }
   ],
   "source": [
    "merged_clean.source.value_counts()"
   ]
  },
  {
   "cell_type": "code",
   "execution_count": 50,
   "metadata": {},
   "outputs": [],
   "source": [
    "merged_clean.source = merged_clean['source'].str.extract('((iPhone)|(Web Client)|(TweetDeck))') # removing the html tags\n"
   ]
  },
  {
   "cell_type": "markdown",
   "metadata": {},
   "source": [
    "#### Test"
   ]
  },
  {
   "cell_type": "code",
   "execution_count": 51,
   "metadata": {},
   "outputs": [
    {
     "data": {
      "text/plain": [
       "0    iPhone\n",
       "1    iPhone\n",
       "2    iPhone\n",
       "3    iPhone\n",
       "4    iPhone\n",
       "Name: source, dtype: object"
      ]
     },
     "execution_count": 51,
     "metadata": {},
     "output_type": "execute_result"
    }
   ],
   "source": [
    "merged_clean.source.head()"
   ]
  },
  {
   "cell_type": "markdown",
   "metadata": {},
   "source": [
    "Now the tags are removed"
   ]
  },
  {
   "cell_type": "markdown",
   "metadata": {},
   "source": [
    "### Issue #8:  In the name column, some names are a bit unclear like 'a','an', 'the','quite','all'"
   ]
  },
  {
   "cell_type": "code",
   "execution_count": 52,
   "metadata": {},
   "outputs": [
    {
     "data": {
      "text/plain": [
       "array(['None', 'a', 'an', 'the', 'quite', 'Walter', 'Scout', 'Kreggory',\n",
       "       'Jimothy', 'Christoper', 'Lugan', 'Josep', 'Jockson', 'Jeph',\n",
       "       'Carll', 'Klevin', 'Keet', 'Dave', 'Clybe', 'Gabe', 'Pipsy',\n",
       "       'Bradlay', 'Churlie', 'Kenneth', 'Clarence', 'Timison', 'Joshwa',\n",
       "       'Genevieve', 'Fwed', 'Biden', 'Cupcake', 'Reese', 'Philippe',\n",
       "       'Hall', 'Dook', 'Naphaniel', 'Frank', 'Kial', 'George', 'Olive',\n",
       "       'Calvin', 'Filup', 'Shaggy', 'Tedrick', 'Stu', 'Erik',\n",
       "       'Cleopatricia', 'Otis', 'Jiminy', 'Alfie', 'Skittles', 'Ron',\n",
       "       'Torque', 'Bisquick', 'Jareld', 'Sophie', 'Rusty', 'DayZ', 'Jo',\n",
       "       'Gòrdón', 'Spark', 'Marvin', 'Kallie', 'Jomathan', 'Maks', 'Timofy',\n",
       "       'Zeek', 'Hanz', 'Winifred', 'Kevon', 'Banditt', 'Bobb', 'Amélie',\n",
       "       'Ruffles', 'Lambeau', 'Herald', 'Jaycob', 'Jeremy', 'Chaz', 'Ruby',\n",
       "       'Bernie', 'Harrison', 'Terrance', 'Tucker', 'Samsom', 'Jaspers',\n",
       "       'Clarq', 'Ralf', 'Kirk', 'Sully', 'Tessa', 'Dug', 'Saydee', 'Chip',\n",
       "       'Oliviér', 'Billl', 'Ronduh', 'Kollin', 'Keith', 'Linda', 'Skye',\n",
       "       'Penny', 'Shawwn', 'Louie', 'Kloey', 'Chester', 'Andru', 'Julio',\n",
       "       'Zoey', 'Raphael', 'Ben', 'Tommy', 'Liam', 'Randall', 'Winston',\n",
       "       'Fabio', 'Wally', 'Sandra', 'Butters', 'Daisy', 'Larry', 'Nigel',\n",
       "       'Peanut', 'Scooter', 'Damon', 'Herb', 'Willy', 'Sam', 'Hank',\n",
       "       'Koda', 'Paull', 'Edd', 'Phineas', 'Bloo', 'Pluto', 'Ester',\n",
       "       'Danny', 'Jeffrie', 'Jerry', 'Gin', 'Vincent', 'Traviss', 'Creg',\n",
       "       'Antony', 'Trigger', 'Mason', 'Andy', 'Maggie', 'Sage', 'Remington',\n",
       "       'Amy', 'Jett', 'Colby', 'Toby', 'Phred', 'Holly', 'Anthony', 'Herm',\n",
       "       'Sparky', 'Lola', 'Lou', 'Tanner', 'Penelope', 'Malcolm', 'Julius',\n",
       "       'Pip', 'Charlie', 'Hammond', 'Scruffers', 'Alejandro', 'Jax',\n",
       "       'Reginald', 'Baxter', 'JD', 'Marley', 'Oscar', 'Mark', 'space',\n",
       "       'Dylan', 'Mia', 'Brad', 'Batdog', 'Mojo', 'Gizmo', 'Patch', 'Tuco',\n",
       "       'just', 'Bubba', 'Bradley', 'Opal', 'Cal', 'Ridley', 'Snickers',\n",
       "       'Rolf', 'Kreg', 'Pippin', 'Franq', 'Buddy', 'Jazz', 'light',\n",
       "       'Jackie', 'Darby', 'Taz', 'Scott', 'Caryl', 'Norman', 'Leonidas',\n",
       "       'Ed', 'Cheryl', 'Jimison', 'Terry', 'Gustaf', 'Chet', 'Chuckles',\n",
       "       'Schnozz', 'Pumpkin', 'Kenzie', 'Fletcher', 'Dexter', 'Mac', 'Eve',\n",
       "       'Frankie', 'Django', 'Gerald', 'Bella', 'Steve', 'Sandy', 'Jeffri',\n",
       "       'Albert', 'Kendall', 'Shnuggles', 'Pickles', 'Dot', 'Raymond',\n",
       "       'Riley', 'Obie', 'one', 'Aiden', 'Acro', 'Kaiya', 'Lucy', 'Stanley',\n",
       "       'Earl', 'Mitch', 'Bobbay', 'Gus', 'Henry', 'Bob', 'Kenny', 'Lennon',\n",
       "       'Chesney', 'Gary', 'Lenny', 'Jonah', 'Ava', 'Bailey', 'Louis',\n",
       "       'Rodman', 'Jeb', 'Patrick', 'Rufio', 'Superpup', 'Tedders', 'Laela',\n",
       "       'Mollie', 'Moe', 'Oliver', 'Zuzu', 'Steven', 'Coops', 'Arnold',\n",
       "       'Reggie', 'Sammy', 'Ellie', 'Buddah', 'Pepper', 'Donny', 'Striker',\n",
       "       'Bert', 'Duke', 'Griffin', 'Vinnie', 'Bubbles', 'Godzilla', 'Ash',\n",
       "       'Karl', 'Tyrus', 'Cooper', 'Chuq', 'Juckson', 'Tassy', 'Derek',\n",
       "       'Humphrey', 'Axel', 'Sadie', 'Ralph', 'Jessifer', 'Rosie',\n",
       "       'Crumpet', 'Jerome', 'Crystal', 'Grizz', 'Tango', 'Dash', 'Wilson',\n",
       "       'Tug', 'Chompsky', 'officially', 'Rubio', 'Hurley', 'Evy', 'Dwight',\n",
       "       'William', 'Mike', 'Hunter', 'Rinna', 'Willie', 'Bruce', 'Emmie',\n",
       "       'by', 'Ozzy', 'Kawhi', 'Goliath', 'CeCe', 'Hector', 'Percy',\n",
       "       'Brody', 'Moofasa', 'Cheesy', 'Griswold', 'Alice', 'Ozzie', 'Aspen',\n",
       "       'Champ', 'Panda', 'Sarge', 'actually', 'Chuck', 'Glacier', 'Asher',\n",
       "       'Carly', 'Apollo', 'Toffee', 'Bo', 'Ulysses', 'Tess', 'Samson',\n",
       "       'Todo', 'Joey', 'Taco', 'Darrel', 'Lulu', 'Brandy', 'Jack', 'Banjo',\n",
       "       'Sebastian', 'Tiger', 'Lupe', 'Kulet', 'Tino', 'Obi', 'Pippa',\n",
       "       'Bobby', 'Theodore', 'Perry', 'Bruiser', 'Oreo', 'Gerbald',\n",
       "       'Hubertson', 'Petrick', 'Rocky', 'Brooks', 'Marty', 'Lorelei',\n",
       "       'Flávio', 'Birf', 'Crimson', 'Horace', 'Olivia', 'Mona', 'Jackson',\n",
       "       'Gordon', 'Tyrone', 'Kramer', 'Curtis', 'Marq', 'Blakely',\n",
       "       'Trooper', 'Kilo', 'Lizzie', 'Derby', 'Frönq', 'Pubert', 'Hamrick',\n",
       "       'Trip', 'Lucky', 'Chipson', 'Carl', 'Ricky', 'Luca', 'Fynn', 'Durg',\n",
       "       'Covach', 'Geoff', 'Maxwell', 'Eriq', 'Lolo', 'Hazel', 'Cedrick',\n",
       "       'Vinscent', 'Peaches', 'Molly', 'Leo', 'Richie', 'Brockly',\n",
       "       'Kingsley', 'Edgar', 'Herschel', 'Cody', 'Amber', 'Tupawc', 'Milo',\n",
       "       'Dunkin', 'Bodie', 'Lincoln', 'Phil', 'Freddery', 'Kobe', 'Grady',\n",
       "       'Archie', 'Brian', 'Lorenzo', 'Colin', 'Wyatt', 'Berb', 'Trevith',\n",
       "       'Reptar', 'Misty', 'Oakley', 'getting', 'Bentley', 'Blipson', 'Ole',\n",
       "       'Carter', 'Cassie', 'Doug', 'Lily', 'Beau', 'Franklin', 'Maximus',\n",
       "       'Jessiga', 'Claude', 'Cuddles', 'Reagan', 'Charl', 'Calbert',\n",
       "       'Miley', 'Fillup', 'Nala', 'Thumas', 'Eazy', 'Dotsy', 'Murphy',\n",
       "       'Kaia', 'very', 'Daniel', 'Crouton', 'Millie', 'Yoda', 'Coopson',\n",
       "       'Bilbo', 'Rilo', 'Fiji', 'Sansa', 'Rambo', 'Socks', 'Ralphson',\n",
       "       'Lucia', 'Chesterson', 'Terrenth', 'Bode', 'Ambrose', 'Zara', 'Max',\n",
       "       'Adele', 'Kara', 'Shadow', 'Katie', 'Elliot', 'Kathmandu',\n",
       "       'Finnegus', 'Clarkus', 'Keurig', 'Harper', 'Jiminus', 'Rufus',\n",
       "       'Farfle', 'Jebberson', 'River', 'Bobble', 'Bear', 'Smokey', 'Coco',\n",
       "       'Mister', 'Malikai', 'Rodney', 'Walker', 'Billy', 'Karma', 'Vince',\n",
       "       'Cecil', 'Olaf', 'Watson', 'Tater', 'Lacy', 'infuriating', 'Gunner',\n",
       "       'Beemo', 'Sora', 'Staniel', 'Roosevelt', 'Kane', 'Sunny', 'Stubert',\n",
       "       'Opie', 'Lance', 'Piper', 'Kanu', 'Travis', 'Benedict', 'Siba',\n",
       "       'Michelangelope', 'Nico', 'Bertson', 'Zeus', 'Stephanus',\n",
       "       'Jennifur', 'Link', 'Ebby', 'Barclay', 'Suki', 'Alexanderson',\n",
       "       'Bowie', 'Carper', 'Sid', 'Harnold', 'Clyde', 'Neptune',\n",
       "       'Charleson', 'Ralphé', 'Berkeley', 'Schnitzel', 'Jangle', 'Ivar',\n",
       "       'Sugar', 'Luther', 'Ashleigh', 'Fred', 'Lillie', 'Bloop', 'Blitz',\n",
       "       'Sprout', 'Karll', 'Cilantro', 'Rueben', 'all', 'Enchilada',\n",
       "       'Wallace', 'Coleman', 'Flurpson', 'Puff', 'Pupcasso', 'Stefan',\n",
       "       'Ollie', 'Charles', 'Ziva', 'Rooney', 'unacceptable', 'Solomon',\n",
       "       'Kyle', 'Aldrick', 'Ralpher', 'Hermione', 'Moose', 'Livvie',\n",
       "       'Buckley', 'Kellogg', 'Dakota', 'Maxaroni', 'Rory', 'Chadrick',\n",
       "       'Remy', 'Storkson', 'Bayley', 'Benji', 'Simba', 'Rorie', 'Nollie',\n",
       "       'Chase', 'Baloo', 'Aqua', 'Edmund', 'Bell', 'Kayla', 'Beya',\n",
       "       'Harold', 'Stark', 'Geno', 'Blanket', 'Harvey', 'Indie', 'Abby',\n",
       "       'Lenox', 'Arlen', 'Gustav', 'Shiloh', 'Clark', 'Atticus',\n",
       "       'Bookstore', 'Huxley', 'Cora', 'his', 'Tripp', 'Divine', 'not',\n",
       "       'Dietrich', 'Blu', 'Finn', 'Jameson', 'Spanky', 'Lilah', 'Stewie',\n",
       "       'Zoe', 'Arnie', 'Meyer', 'Gilbert', 'Grizzie', 'Tayzie', 'Ace',\n",
       "       'Dex', 'Winnie', 'Gert', 'Devón', 'Beckham', 'Leonard', 'Corey',\n",
       "       'Odie', 'Brandonald', 'Boston', 'Lilli', 'Spencer', 'Luna', 'Emma',\n",
       "       'Kirby', 'Fido', 'Rocco', 'Atlas', 'Theo', 'Rose', 'Wishes',\n",
       "       'Bonaparte', 'Sephie', 'Shelby', 'Glenn', 'Leela', 'Belle', 'Kota',\n",
       "       'Aubie', 'Gromit', 'my', 'Tove', 'Brat', 'Angel', 'Juno', 'Shadoe',\n",
       "       'Brudge', 'Rupert', 'Philbert', 'Tito', 'Chevy', 'Jesse', 'DonDon',\n",
       "       'Titan', 'Klein', 'Carbon', 'Al', 'Dixie', 'Fizz', 'Davey',\n",
       "       'Willem', 'Grey', 'Bungalo', 'Chelsea', 'Shakespeare', 'Loki',\n",
       "       'Heinrich', 'Sprinkles', 'Finley', 'Anakin', 'Blue', 'Sampson', 'O',\n",
       "       'Huck', 'Jeffrey', 'Wesley', 'Strider', 'Mya', 'Jay', 'Hercules',\n",
       "       'Timmy', 'Deacon', 'Cali', 'Godi', 'Loomis', 'Mairi', 'Stormy',\n",
       "       'Hero', 'Doc', 'Dallas', 'Pinot', 'Mattie', 'Rizzo', 'Dale',\n",
       "       'Tonks', 'Butter', 'Stella', 'Rizzy', 'Brownie', 'Eli', 'Happy',\n",
       "       'Mosby', 'Betty', 'Mabel', 'Levi', 'Remus', 'BeBe', 'Monster',\n",
       "       'Robin', 'Nida', 'Newt', 'Maude', 'Moreton', 'Fiona', 'Dobby',\n",
       "       'Laika', 'Nimbus', 'Mack', 'Yogi', 'Snicku', 'Romeo', 'Tyr',\n",
       "       'Pancake', 'Iroh', 'Longfellow', 'Sobe', 'Chef', 'Mauve', 'Bones',\n",
       "       'Ronnie', 'Severus', 'Sonny', 'Diogi', 'Shooter', 'Zeke', 'Major',\n",
       "       'incredibly', 'Waffles', 'Stephan', 'Ito', 'Kyro', 'Pavlov',\n",
       "       'Craig', 'Augie', 'Halo', 'Ted', 'Mary', 'Brandi', 'Swagger',\n",
       "       'Bauer', 'Baron', 'Layla', 'Eleanor', 'Sky', 'Chubbs', 'Oshie',\n",
       "       'Alf', 'Akumi', 'Comet', 'Dudley', 'Binky', 'Timber', 'Chloe',\n",
       "       'Tebow', 'Strudel', 'Ken', 'Eugene', 'Dido', 'Autumn', 'Florence',\n",
       "       'Tom', 'Wafer', 'Anna', 'Jazzy', 'Howie', 'Flash', 'Sundance',\n",
       "       'Harlso', 'Duchess', 'Paisley', 'Hobbes', 'Albus', 'Crawford',\n",
       "       'Cash', 'Pablo', 'Sweet', 'Mo', 'Ike', 'Pilot', 'Pawnd', 'Cupid',\n",
       "       'Ralphie', 'Boots', 'Kona', 'Brutus', 'Sailer', 'Alexander',\n",
       "       'Beebop', 'Doobert', 'Mutt', 'Astrid', 'Lilly', 'Pete', 'Dutch',\n",
       "       'Kuyu', 'Emanuel', 'Miguel', 'Smiley', 'Eevee', 'Orion', 'Willow',\n",
       "       'Rhino', 'Gidget', 'Poppy', 'Bronte', 'Lipton', 'Sunshine', 'Tobi',\n",
       "       'Meera', 'Mookie', 'Arlo', 'Sojourner', 'Monty', 'Maddie', 'Dawn',\n",
       "       'Tycho', 'Margo', 'Brady', 'Mimosa', 'Jarvis', 'Vixen', 'Barney',\n",
       "       'Tuck', 'Furzey', 'Cannon', 'Rontu', 'Georgie', 'Odin', 'Kevin',\n",
       "       'Noosh', 'Boomer', 'Snoop', 'Iggy', 'Sailor', 'General', 'Wiggles',\n",
       "       'Jarod', 'Benny', 'Rumpole', 'Einstein', 'Arya', 'Marlee', 'Cermet',\n",
       "       'Callie', 'Thor', 'Milky', 'Jordy', 'Burt', 'Jersey', 'Zooey',\n",
       "       'Quinn', 'Meatball', 'Nelly', 'Jamesy', 'Lili', 'Shikha', 'Dewey',\n",
       "       'Clifford', 'Rumble', 'Napolean', 'Rover', 'Lassie', 'Kody',\n",
       "       'Harry', 'Monkey', 'Sierra', 'Jed', 'Nugget', 'Goose', 'Venti',\n",
       "       'Ginger', 'Dante', 'Aja', 'Emmy', 'Snoopy', 'Duddles', 'Rey',\n",
       "       'Koko', 'Alfy', 'Grizzwald', 'Noah', 'Maisey', 'Jimbo', 'Roscoe',\n",
       "       'Mingus', 'Maya', 'Canela', 'such', 'Ralphus', 'Jim', 'Stuart',\n",
       "       'Bruno', 'Darla', 'Tilly'], dtype=object)"
      ]
     },
     "execution_count": 52,
     "metadata": {},
     "output_type": "execute_result"
    }
   ],
   "source": [
    "merged_clean['name'].unique() #unique names in the name column"
   ]
  },
  {
   "cell_type": "markdown",
   "metadata": {},
   "source": [
    "#### Define:\n",
    "These are mostly those without names, this was mostly done by visual assessment, so we replace them with _None_ for ease of analysis"
   ]
  },
  {
   "cell_type": "markdown",
   "metadata": {},
   "source": [
    "#### Code"
   ]
  },
  {
   "cell_type": "code",
   "execution_count": 53,
   "metadata": {},
   "outputs": [],
   "source": [
    "merged_clean.name = merged_clean['name'].str.replace('((^an$)|(^a$)|(^the$)|(^quite$)|(^all$)|(^such$))', 'None')#replacing the unclear names with N"
   ]
  },
  {
   "cell_type": "markdown",
   "metadata": {},
   "source": [
    "#### Test"
   ]
  },
  {
   "cell_type": "code",
   "execution_count": 54,
   "metadata": {},
   "outputs": [
    {
     "data": {
      "text/plain": [
       "array(['None', 'Walter', 'Scout', 'Kreggory', 'Jimothy', 'Christoper',\n",
       "       'Lugan', 'Josep', 'Jockson', 'Jeph', 'Carll', 'Klevin', 'Keet',\n",
       "       'Dave', 'Clybe', 'Gabe', 'Pipsy', 'Bradlay', 'Churlie', 'Kenneth',\n",
       "       'Clarence', 'Timison', 'Joshwa', 'Genevieve', 'Fwed', 'Biden',\n",
       "       'Cupcake', 'Reese', 'Philippe', 'Hall', 'Dook', 'Naphaniel',\n",
       "       'Frank', 'Kial', 'George', 'Olive', 'Calvin', 'Filup', 'Shaggy',\n",
       "       'Tedrick', 'Stu', 'Erik', 'Cleopatricia', 'Otis', 'Jiminy', 'Alfie',\n",
       "       'Skittles', 'Ron', 'Torque', 'Bisquick', 'Jareld', 'Sophie',\n",
       "       'Rusty', 'DayZ', 'Jo', 'Gòrdón', 'Spark', 'Marvin', 'Kallie',\n",
       "       'Jomathan', 'Maks', 'Timofy', 'Zeek', 'Hanz', 'Winifred', 'Kevon',\n",
       "       'Banditt', 'Bobb', 'Amélie', 'Ruffles', 'Lambeau', 'Herald',\n",
       "       'Jaycob', 'Jeremy', 'Chaz', 'Ruby', 'Bernie', 'Harrison',\n",
       "       'Terrance', 'Tucker', 'Samsom', 'Jaspers', 'Clarq', 'Ralf', 'Kirk',\n",
       "       'Sully', 'Tessa', 'Dug', 'Saydee', 'Chip', 'Oliviér', 'Billl',\n",
       "       'Ronduh', 'Kollin', 'Keith', 'Linda', 'Skye', 'Penny', 'Shawwn',\n",
       "       'Louie', 'Kloey', 'Chester', 'Andru', 'Julio', 'Zoey', 'Raphael',\n",
       "       'Ben', 'Tommy', 'Liam', 'Randall', 'Winston', 'Fabio', 'Wally',\n",
       "       'Sandra', 'Butters', 'Daisy', 'Larry', 'Nigel', 'Peanut', 'Scooter',\n",
       "       'Damon', 'Herb', 'Willy', 'Sam', 'Hank', 'Koda', 'Paull', 'Edd',\n",
       "       'Phineas', 'Bloo', 'Pluto', 'Ester', 'Danny', 'Jeffrie', 'Jerry',\n",
       "       'Gin', 'Vincent', 'Traviss', 'Creg', 'Antony', 'Trigger', 'Mason',\n",
       "       'Andy', 'Maggie', 'Sage', 'Remington', 'Amy', 'Jett', 'Colby',\n",
       "       'Toby', 'Phred', 'Holly', 'Anthony', 'Herm', 'Sparky', 'Lola',\n",
       "       'Lou', 'Tanner', 'Penelope', 'Malcolm', 'Julius', 'Pip', 'Charlie',\n",
       "       'Hammond', 'Scruffers', 'Alejandro', 'Jax', 'Reginald', 'Baxter',\n",
       "       'JD', 'Marley', 'Oscar', 'Mark', 'space', 'Dylan', 'Mia', 'Brad',\n",
       "       'Batdog', 'Mojo', 'Gizmo', 'Patch', 'Tuco', 'just', 'Bubba',\n",
       "       'Bradley', 'Opal', 'Cal', 'Ridley', 'Snickers', 'Rolf', 'Kreg',\n",
       "       'Pippin', 'Franq', 'Buddy', 'Jazz', 'light', 'Jackie', 'Darby',\n",
       "       'Taz', 'Scott', 'Caryl', 'Norman', 'Leonidas', 'Ed', 'Cheryl',\n",
       "       'Jimison', 'Terry', 'Gustaf', 'Chet', 'Chuckles', 'Schnozz',\n",
       "       'Pumpkin', 'Kenzie', 'Fletcher', 'Dexter', 'Mac', 'Eve', 'Frankie',\n",
       "       'Django', 'Gerald', 'Bella', 'Steve', 'Sandy', 'Jeffri', 'Albert',\n",
       "       'Kendall', 'Shnuggles', 'Pickles', 'Dot', 'Raymond', 'Riley',\n",
       "       'Obie', 'one', 'Aiden', 'Acro', 'Kaiya', 'Lucy', 'Stanley', 'Earl',\n",
       "       'Mitch', 'Bobbay', 'Gus', 'Henry', 'Bob', 'Kenny', 'Lennon',\n",
       "       'Chesney', 'Gary', 'Lenny', 'Jonah', 'Ava', 'Bailey', 'Louis',\n",
       "       'Rodman', 'Jeb', 'Patrick', 'Rufio', 'Superpup', 'Tedders', 'Laela',\n",
       "       'Mollie', 'Moe', 'Oliver', 'Zuzu', 'Steven', 'Coops', 'Arnold',\n",
       "       'Reggie', 'Sammy', 'Ellie', 'Buddah', 'Pepper', 'Donny', 'Striker',\n",
       "       'Bert', 'Duke', 'Griffin', 'Vinnie', 'Bubbles', 'Godzilla', 'Ash',\n",
       "       'Karl', 'Tyrus', 'Cooper', 'Chuq', 'Juckson', 'Tassy', 'Derek',\n",
       "       'Humphrey', 'Axel', 'Sadie', 'Ralph', 'Jessifer', 'Rosie',\n",
       "       'Crumpet', 'Jerome', 'Crystal', 'Grizz', 'Tango', 'Dash', 'Wilson',\n",
       "       'Tug', 'Chompsky', 'officially', 'Rubio', 'Hurley', 'Evy', 'Dwight',\n",
       "       'William', 'Mike', 'Hunter', 'Rinna', 'Willie', 'Bruce', 'Emmie',\n",
       "       'by', 'Ozzy', 'Kawhi', 'Goliath', 'CeCe', 'Hector', 'Percy',\n",
       "       'Brody', 'Moofasa', 'Cheesy', 'Griswold', 'Alice', 'Ozzie', 'Aspen',\n",
       "       'Champ', 'Panda', 'Sarge', 'actually', 'Chuck', 'Glacier', 'Asher',\n",
       "       'Carly', 'Apollo', 'Toffee', 'Bo', 'Ulysses', 'Tess', 'Samson',\n",
       "       'Todo', 'Joey', 'Taco', 'Darrel', 'Lulu', 'Brandy', 'Jack', 'Banjo',\n",
       "       'Sebastian', 'Tiger', 'Lupe', 'Kulet', 'Tino', 'Obi', 'Pippa',\n",
       "       'Bobby', 'Theodore', 'Perry', 'Bruiser', 'Oreo', 'Gerbald',\n",
       "       'Hubertson', 'Petrick', 'Rocky', 'Brooks', 'Marty', 'Lorelei',\n",
       "       'Flávio', 'Birf', 'Crimson', 'Horace', 'Olivia', 'Mona', 'Jackson',\n",
       "       'Gordon', 'Tyrone', 'Kramer', 'Curtis', 'Marq', 'Blakely',\n",
       "       'Trooper', 'Kilo', 'Lizzie', 'Derby', 'Frönq', 'Pubert', 'Hamrick',\n",
       "       'Trip', 'Lucky', 'Chipson', 'Carl', 'Ricky', 'Luca', 'Fynn', 'Durg',\n",
       "       'Covach', 'Geoff', 'Maxwell', 'Eriq', 'Lolo', 'Hazel', 'Cedrick',\n",
       "       'Vinscent', 'Peaches', 'Molly', 'Leo', 'Richie', 'Brockly',\n",
       "       'Kingsley', 'Edgar', 'Herschel', 'Cody', 'Amber', 'Tupawc', 'Milo',\n",
       "       'Dunkin', 'Bodie', 'Lincoln', 'Phil', 'Freddery', 'Kobe', 'Grady',\n",
       "       'Archie', 'Brian', 'Lorenzo', 'Colin', 'Wyatt', 'Berb', 'Trevith',\n",
       "       'Reptar', 'Misty', 'Oakley', 'getting', 'Bentley', 'Blipson', 'Ole',\n",
       "       'Carter', 'Cassie', 'Doug', 'Lily', 'Beau', 'Franklin', 'Maximus',\n",
       "       'Jessiga', 'Claude', 'Cuddles', 'Reagan', 'Charl', 'Calbert',\n",
       "       'Miley', 'Fillup', 'Nala', 'Thumas', 'Eazy', 'Dotsy', 'Murphy',\n",
       "       'Kaia', 'very', 'Daniel', 'Crouton', 'Millie', 'Yoda', 'Coopson',\n",
       "       'Bilbo', 'Rilo', 'Fiji', 'Sansa', 'Rambo', 'Socks', 'Ralphson',\n",
       "       'Lucia', 'Chesterson', 'Terrenth', 'Bode', 'Ambrose', 'Zara', 'Max',\n",
       "       'Adele', 'Kara', 'Shadow', 'Katie', 'Elliot', 'Kathmandu',\n",
       "       'Finnegus', 'Clarkus', 'Keurig', 'Harper', 'Jiminus', 'Rufus',\n",
       "       'Farfle', 'Jebberson', 'River', 'Bobble', 'Bear', 'Smokey', 'Coco',\n",
       "       'Mister', 'Malikai', 'Rodney', 'Walker', 'Billy', 'Karma', 'Vince',\n",
       "       'Cecil', 'Olaf', 'Watson', 'Tater', 'Lacy', 'infuriating', 'Gunner',\n",
       "       'Beemo', 'Sora', 'Staniel', 'Roosevelt', 'Kane', 'Sunny', 'Stubert',\n",
       "       'Opie', 'Lance', 'Piper', 'Kanu', 'Travis', 'Benedict', 'Siba',\n",
       "       'Michelangelope', 'Nico', 'Bertson', 'Zeus', 'Stephanus',\n",
       "       'Jennifur', 'Link', 'Ebby', 'Barclay', 'Suki', 'Alexanderson',\n",
       "       'Bowie', 'Carper', 'Sid', 'Harnold', 'Clyde', 'Neptune',\n",
       "       'Charleson', 'Ralphé', 'Berkeley', 'Schnitzel', 'Jangle', 'Ivar',\n",
       "       'Sugar', 'Luther', 'Ashleigh', 'Fred', 'Lillie', 'Bloop', 'Blitz',\n",
       "       'Sprout', 'Karll', 'Cilantro', 'Rueben', 'Enchilada', 'Wallace',\n",
       "       'Coleman', 'Flurpson', 'Puff', 'Pupcasso', 'Stefan', 'Ollie',\n",
       "       'Charles', 'Ziva', 'Rooney', 'unacceptable', 'Solomon', 'Kyle',\n",
       "       'Aldrick', 'Ralpher', 'Hermione', 'Moose', 'Livvie', 'Buckley',\n",
       "       'Kellogg', 'Dakota', 'Maxaroni', 'Rory', 'Chadrick', 'Remy',\n",
       "       'Storkson', 'Bayley', 'Benji', 'Simba', 'Rorie', 'Nollie', 'Chase',\n",
       "       'Baloo', 'Aqua', 'Edmund', 'Bell', 'Kayla', 'Beya', 'Harold',\n",
       "       'Stark', 'Geno', 'Blanket', 'Harvey', 'Indie', 'Abby', 'Lenox',\n",
       "       'Arlen', 'Gustav', 'Shiloh', 'Clark', 'Atticus', 'Bookstore',\n",
       "       'Huxley', 'Cora', 'his', 'Tripp', 'Divine', 'not', 'Dietrich',\n",
       "       'Blu', 'Finn', 'Jameson', 'Spanky', 'Lilah', 'Stewie', 'Zoe',\n",
       "       'Arnie', 'Meyer', 'Gilbert', 'Grizzie', 'Tayzie', 'Ace', 'Dex',\n",
       "       'Winnie', 'Gert', 'Devón', 'Beckham', 'Leonard', 'Corey', 'Odie',\n",
       "       'Brandonald', 'Boston', 'Lilli', 'Spencer', 'Luna', 'Emma', 'Kirby',\n",
       "       'Fido', 'Rocco', 'Atlas', 'Theo', 'Rose', 'Wishes', 'Bonaparte',\n",
       "       'Sephie', 'Shelby', 'Glenn', 'Leela', 'Belle', 'Kota', 'Aubie',\n",
       "       'Gromit', 'my', 'Tove', 'Brat', 'Angel', 'Juno', 'Shadoe', 'Brudge',\n",
       "       'Rupert', 'Philbert', 'Tito', 'Chevy', 'Jesse', 'DonDon', 'Titan',\n",
       "       'Klein', 'Carbon', 'Al', 'Dixie', 'Fizz', 'Davey', 'Willem', 'Grey',\n",
       "       'Bungalo', 'Chelsea', 'Shakespeare', 'Loki', 'Heinrich',\n",
       "       'Sprinkles', 'Finley', 'Anakin', 'Blue', 'Sampson', 'O', 'Huck',\n",
       "       'Jeffrey', 'Wesley', 'Strider', 'Mya', 'Jay', 'Hercules', 'Timmy',\n",
       "       'Deacon', 'Cali', 'Godi', 'Loomis', 'Mairi', 'Stormy', 'Hero',\n",
       "       'Doc', 'Dallas', 'Pinot', 'Mattie', 'Rizzo', 'Dale', 'Tonks',\n",
       "       'Butter', 'Stella', 'Rizzy', 'Brownie', 'Eli', 'Happy', 'Mosby',\n",
       "       'Betty', 'Mabel', 'Levi', 'Remus', 'BeBe', 'Monster', 'Robin',\n",
       "       'Nida', 'Newt', 'Maude', 'Moreton', 'Fiona', 'Dobby', 'Laika',\n",
       "       'Nimbus', 'Mack', 'Yogi', 'Snicku', 'Romeo', 'Tyr', 'Pancake',\n",
       "       'Iroh', 'Longfellow', 'Sobe', 'Chef', 'Mauve', 'Bones', 'Ronnie',\n",
       "       'Severus', 'Sonny', 'Diogi', 'Shooter', 'Zeke', 'Major',\n",
       "       'incredibly', 'Waffles', 'Stephan', 'Ito', 'Kyro', 'Pavlov',\n",
       "       'Craig', 'Augie', 'Halo', 'Ted', 'Mary', 'Brandi', 'Swagger',\n",
       "       'Bauer', 'Baron', 'Layla', 'Eleanor', 'Sky', 'Chubbs', 'Oshie',\n",
       "       'Alf', 'Akumi', 'Comet', 'Dudley', 'Binky', 'Timber', 'Chloe',\n",
       "       'Tebow', 'Strudel', 'Ken', 'Eugene', 'Dido', 'Autumn', 'Florence',\n",
       "       'Tom', 'Wafer', 'Anna', 'Jazzy', 'Howie', 'Flash', 'Sundance',\n",
       "       'Harlso', 'Duchess', 'Paisley', 'Hobbes', 'Albus', 'Crawford',\n",
       "       'Cash', 'Pablo', 'Sweet', 'Mo', 'Ike', 'Pilot', 'Pawnd', 'Cupid',\n",
       "       'Ralphie', 'Boots', 'Kona', 'Brutus', 'Sailer', 'Alexander',\n",
       "       'Beebop', 'Doobert', 'Mutt', 'Astrid', 'Lilly', 'Pete', 'Dutch',\n",
       "       'Kuyu', 'Emanuel', 'Miguel', 'Smiley', 'Eevee', 'Orion', 'Willow',\n",
       "       'Rhino', 'Gidget', 'Poppy', 'Bronte', 'Lipton', 'Sunshine', 'Tobi',\n",
       "       'Meera', 'Mookie', 'Arlo', 'Sojourner', 'Monty', 'Maddie', 'Dawn',\n",
       "       'Tycho', 'Margo', 'Brady', 'Mimosa', 'Jarvis', 'Vixen', 'Barney',\n",
       "       'Tuck', 'Furzey', 'Cannon', 'Rontu', 'Georgie', 'Odin', 'Kevin',\n",
       "       'Noosh', 'Boomer', 'Snoop', 'Iggy', 'Sailor', 'General', 'Wiggles',\n",
       "       'Jarod', 'Benny', 'Rumpole', 'Einstein', 'Arya', 'Marlee', 'Cermet',\n",
       "       'Callie', 'Thor', 'Milky', 'Jordy', 'Burt', 'Jersey', 'Zooey',\n",
       "       'Quinn', 'Meatball', 'Nelly', 'Jamesy', 'Lili', 'Shikha', 'Dewey',\n",
       "       'Clifford', 'Rumble', 'Napolean', 'Rover', 'Lassie', 'Kody',\n",
       "       'Harry', 'Monkey', 'Sierra', 'Jed', 'Nugget', 'Goose', 'Venti',\n",
       "       'Ginger', 'Dante', 'Aja', 'Emmy', 'Snoopy', 'Duddles', 'Rey',\n",
       "       'Koko', 'Alfy', 'Grizzwald', 'Noah', 'Maisey', 'Jimbo', 'Roscoe',\n",
       "       'Mingus', 'Maya', 'Canela', 'Ralphus', 'Jim', 'Stuart', 'Bruno',\n",
       "       'Darla', 'Tilly'], dtype=object)"
      ]
     },
     "execution_count": 54,
     "metadata": {},
     "output_type": "execute_result"
    }
   ],
   "source": [
    "merged_clean['name'].unique() "
   ]
  },
  {
   "cell_type": "markdown",
   "metadata": {},
   "source": [
    "We have duely replaced the unclear names"
   ]
  },
  {
   "cell_type": "code",
   "execution_count": null,
   "metadata": {},
   "outputs": [],
   "source": []
  },
  {
   "cell_type": "code",
   "execution_count": null,
   "metadata": {},
   "outputs": [],
   "source": []
  },
  {
   "cell_type": "markdown",
   "metadata": {},
   "source": [
    "### Tidiness issues\n"
   ]
  },
  {
   "cell_type": "markdown",
   "metadata": {},
   "source": [
    "### Issue #9: The text column in the  dataframe has more than one form of data in one column eg tweet, rating, url"
   ]
  },
  {
   "cell_type": "markdown",
   "metadata": {},
   "source": [
    "### Define: \n",
    "+ str.replace method was used to replace the rating using regex pattern and same was done for the short url and then whitespaces was stripped"
   ]
  },
  {
   "cell_type": "markdown",
   "metadata": {},
   "source": [
    "### Code"
   ]
  },
  {
   "cell_type": "code",
   "execution_count": 55,
   "metadata": {},
   "outputs": [],
   "source": [
    "merged_clean.text = merged_clean['text'].str.replace('(\\d+\\/\\d+)','') # removing the ratings"
   ]
  },
  {
   "cell_type": "code",
   "execution_count": 56,
   "metadata": {},
   "outputs": [],
   "source": [
    "#removing the compressed url and stripping of white spaces\n",
    "merged_clean.text = merged_clean['text'].str.replace('([a-z]+:\\/\\/t\\.co\\/[a-zA-Z0-9]{10})','').str.strip()"
   ]
  },
  {
   "cell_type": "markdown",
   "metadata": {},
   "source": [
    "### Test"
   ]
  },
  {
   "cell_type": "code",
   "execution_count": 57,
   "metadata": {
    "scrolled": true
   },
   "outputs": [
    {
     "name": "stdout",
     "output_type": "stream",
     "text": [
      "Here we have a Hufflepuff. Loves vest. Eyes wide af. Flaccid tail. Matches carpet. Always a little blurry.\n",
      "\n",
      "Unfamiliar with this breed. Ears pointy af. Won't let go of seashell. Won't eat kibble. Not very fast. Bad dog\n",
      "\n",
      "Here we have a Japanese Irish Setter. Lost eye in Vietnam (?). Big fan of relaxing on stair.  would pet\n"
     ]
    }
   ],
   "source": [
    "print(merged_clean.text[56])\n",
    "print()\n",
    "print(merged_clean.text[45])\n",
    "print()\n",
    "print(merged_clean.text[0])"
   ]
  },
  {
   "cell_type": "markdown",
   "metadata": {},
   "source": [
    "### Issue #10: The dog stages are not tidy each column represents the same variable. so we create a column **dog_stages** containing the stages in one column"
   ]
  },
  {
   "cell_type": "markdown",
   "metadata": {},
   "source": [
    "#### Define We use the melt function to collapse the dog stages into a single column"
   ]
  },
  {
   "cell_type": "code",
   "execution_count": 58,
   "metadata": {},
   "outputs": [
    {
     "data": {
      "text/plain": [
       "Index(['tweet_id', 'jpg_url', 'img_num', 'p1', 'p1_conf', 'p1_dog', 'p2',\n",
       "       'p2_conf', 'p2_dog', 'p3', 'p3_conf', 'p3_dog', 'timestamp', 'source',\n",
       "       'text', 'expanded_urls', 'rating_numerator', 'rating_denominator',\n",
       "       'name', 'doggo', 'floofer', 'pupper', 'puppo', 'retweet_count',\n",
       "       'favorite_count'],\n",
       "      dtype='object')"
      ]
     },
     "execution_count": 58,
     "metadata": {},
     "output_type": "execute_result"
    }
   ],
   "source": [
    "merged_clean.columns"
   ]
  },
  {
   "cell_type": "code",
   "execution_count": 59,
   "metadata": {},
   "outputs": [],
   "source": [
    "# creating a column for the dog stages\n",
    "merged_clean_final= merged_clean.melt(id_vars= ['tweet_id', 'jpg_url', 'img_num', 'p1', 'p1_conf', 'p1_dog', 'p2',\n",
    "       'p2_conf', 'p2_dog', 'p3', 'p3_conf', 'p3_dog', 'timestamp', 'source', 'text', 'expanded_urls', 'rating_numerator', 'rating_denominator',\n",
    "       'name', 'retweet_count', 'favorite_count'],  value_name= 'dog_stages')\n"
   ]
  },
  {
   "cell_type": "code",
   "execution_count": 60,
   "metadata": {},
   "outputs": [],
   "source": [
    "merged_clean_final= merged_clean_final.drop('variable', axis=1) #dropping the variable column as it is not needed any more"
   ]
  },
  {
   "cell_type": "markdown",
   "metadata": {},
   "source": [
    "#### Test\n"
   ]
  },
  {
   "cell_type": "code",
   "execution_count": 61,
   "metadata": {},
   "outputs": [
    {
     "data": {
      "text/plain": [
       "Index(['tweet_id', 'jpg_url', 'img_num', 'p1', 'p1_conf', 'p1_dog', 'p2',\n",
       "       'p2_conf', 'p2_dog', 'p3', 'p3_conf', 'p3_dog', 'timestamp', 'source',\n",
       "       'text', 'expanded_urls', 'rating_numerator', 'rating_denominator',\n",
       "       'name', 'retweet_count', 'favorite_count', 'dog_stages'],\n",
       "      dtype='object')"
      ]
     },
     "execution_count": 61,
     "metadata": {},
     "output_type": "execute_result"
    }
   ],
   "source": [
    "merged_clean_final.columns"
   ]
  },
  {
   "cell_type": "markdown",
   "metadata": {},
   "source": [
    "Now we have a tidy dataframe"
   ]
  },
  {
   "cell_type": "markdown",
   "metadata": {},
   "source": [
    "## Storing Data\n",
    "Save gathered, assessed, and cleaned master dataset to a CSV file named \"twitter_archive_master.csv\"."
   ]
  },
  {
   "cell_type": "code",
   "execution_count": 62,
   "metadata": {},
   "outputs": [],
   "source": [
    "merged_clean_final.to_csv(\"twitter_archive_master.csv\", index= False)"
   ]
  },
  {
   "cell_type": "code",
   "execution_count": null,
   "metadata": {},
   "outputs": [],
   "source": []
  },
  {
   "cell_type": "code",
   "execution_count": null,
   "metadata": {},
   "outputs": [],
   "source": []
  },
  {
   "cell_type": "code",
   "execution_count": null,
   "metadata": {},
   "outputs": [],
   "source": []
  },
  {
   "cell_type": "markdown",
   "metadata": {},
   "source": [
    "## Analyzing and Visualizing Data\n",
    "In this section, analyze and visualize your wrangled data. You must produce at least **three (3) insights and one (1) visualization.**"
   ]
  },
  {
   "cell_type": "code",
   "execution_count": 63,
   "metadata": {
    "scrolled": true
   },
   "outputs": [
    {
     "data": {
      "text/plain": [
       "12    1800\n",
       "10    1676\n",
       "11    1584\n",
       "13    1044\n",
       "9      604\n",
       "8      380\n",
       "7      208\n",
       "14     140\n",
       "5      132\n",
       "6      128\n",
       "3       76\n",
       "4       64\n",
       "2       36\n",
       "1       20\n",
       "0        8\n",
       "Name: rating_numerator, dtype: int64"
      ]
     },
     "execution_count": 63,
     "metadata": {},
     "output_type": "execute_result"
    }
   ],
   "source": [
    "merged_clean_final.rating_numerator.value_counts()"
   ]
  },
  {
   "cell_type": "code",
   "execution_count": 64,
   "metadata": {},
   "outputs": [
    {
     "data": {
      "text/plain": [
       "None       7584\n",
       "pupper      211\n",
       "doggo        74\n",
       "puppo        23\n",
       "floofer       8\n",
       "Name: dog_stages, dtype: int64"
      ]
     },
     "execution_count": 64,
     "metadata": {},
     "output_type": "execute_result"
    }
   ],
   "source": [
    "merged_clean_final.dog_stages.value_counts()#checking the count of the values of the dog stages\n"
   ]
  },
  {
   "cell_type": "code",
   "execution_count": 65,
   "metadata": {},
   "outputs": [
    {
     "data": {
      "text/plain": [
       "0.740253164556962"
      ]
     },
     "execution_count": 65,
     "metadata": {},
     "output_type": "execute_result"
    }
   ],
   "source": [
    "predcition_1= merged_clean_final[merged_clean_final['p1_dog']== True].p1_dog.count()/(merged_clean_final.p1_dog.count())#checking the probability of success for #1 prediction\n",
    "predcition_1"
   ]
  },
  {
   "cell_type": "code",
   "execution_count": 66,
   "metadata": {},
   "outputs": [
    {
     "data": {
      "text/plain": [
       "0.74987341772151894"
      ]
     },
     "execution_count": 66,
     "metadata": {},
     "output_type": "execute_result"
    }
   ],
   "source": [
    "predcition_2= merged_clean_final[merged_clean_final['p2_dog']== True].p2_dog.count()/(merged_clean_final.p2_dog.count())#checking the probability of success for #2 prediction\n",
    "predcition_2"
   ]
  },
  {
   "cell_type": "code",
   "execution_count": 67,
   "metadata": {},
   "outputs": [
    {
     "data": {
      "text/plain": [
       "0.7245569620253165"
      ]
     },
     "execution_count": 67,
     "metadata": {},
     "output_type": "execute_result"
    }
   ],
   "source": [
    "predcition_3= merged_clean_final[merged_clean_final['p3_dog']== True].p3_dog.count()/(merged_clean_final.p3_dog.count())#checking the probability of success for #3 prediction\n",
    "predcition_3"
   ]
  },
  {
   "cell_type": "code",
   "execution_count": 68,
   "metadata": {},
   "outputs": [
    {
     "data": {
      "text/plain": [
       "98.075949367088612"
      ]
     },
     "execution_count": 68,
     "metadata": {},
     "output_type": "execute_result"
    }
   ],
   "source": [
    "percent_of_iPhone= ((merged_clean_final[ merged_clean_final.source == 'iPhone'].source.count())/(merged_clean_final.source.count()))*100\n",
    "percent_of_iPhone"
   ]
  },
  {
   "cell_type": "code",
   "execution_count": 69,
   "metadata": {},
   "outputs": [
    {
     "data": {
      "text/plain": [
       "1.4177215189873418"
      ]
     },
     "execution_count": 69,
     "metadata": {},
     "output_type": "execute_result"
    }
   ],
   "source": [
    "percent_of_WebClient= ((merged_clean_final[ merged_clean_final.source == 'Web Client'].source.count())/(merged_clean_final.source.count()))*100\n",
    "percent_of_WebClient"
   ]
  },
  {
   "cell_type": "code",
   "execution_count": 70,
   "metadata": {},
   "outputs": [
    {
     "data": {
      "text/plain": [
       "0.50632911392405067"
      ]
     },
     "execution_count": 70,
     "metadata": {},
     "output_type": "execute_result"
    }
   ],
   "source": [
    "percent_of_TweetDeck= ((merged_clean_final[ merged_clean_final.source == 'TweetDeck'].source.count())/(merged_clean_final.source.count()))*100\n",
    "percent_of_TweetDeck"
   ]
  },
  {
   "cell_type": "code",
   "execution_count": null,
   "metadata": {},
   "outputs": [],
   "source": []
  },
  {
   "cell_type": "code",
   "execution_count": null,
   "metadata": {},
   "outputs": [],
   "source": []
  },
  {
   "cell_type": "markdown",
   "metadata": {},
   "source": [
    "### Insights:\n",
    "1. More tweets gave higher ratings of 10,11,12,13\n",
    "\n",
    "2. Although there are not much values to solidly determine this but more dogs are in the pupper stage\n",
    "\n",
    "3. The Algorithm's prediction were mostly accurate and the predictions has similar propabilities of success slightly above 70%\n",
    "\n",
    "4. More Users tweeted using iPhone"
   ]
  },
  {
   "cell_type": "markdown",
   "metadata": {
    "collapsed": true
   },
   "source": [
    "### Visualization"
   ]
  },
  {
   "cell_type": "code",
   "execution_count": 71,
   "metadata": {},
   "outputs": [
    {
     "data": {
      "image/png": "[encoded data removed]",
      "text/plain": [
       "<matplotlib.figure.Figure at 0x7ffb88bfec88>"
      ]
     },
     "metadata": {
      "needs_background": "light"
     },
     "output_type": "display_data"
    }
   ],
   "source": [
    "\n",
    "merged_clean_final.p1_dog.value_counts().plot(kind = 'bar');\n",
    "plt.title(\"Prediction Outcome #1\");\n",
    "plt.xlabel('Values')\n",
    "plt.ylabel(\"Count\");"
   ]
  },
  {
   "cell_type": "markdown",
   "metadata": {},
   "source": [
    "The bar plot of outcomes of the #1 prediction"
   ]
  },
  {
   "cell_type": "code",
   "execution_count": null,
   "metadata": {},
   "outputs": [],
   "source": []
  },
  {
   "cell_type": "code",
   "execution_count": null,
   "metadata": {},
   "outputs": [],
   "source": []
  }
 ],
 "metadata": {
  "extensions": {
   "jupyter_dashboards": {
    "activeView": "report_default",
    "version": 1,
    "views": {
     "grid_default": {
      "cellMargin": 10,
      "defaultCellHeight": 20,
      "maxColumns": 12,
      "name": "grid",
      "type": "grid"
     },
     "report_default": {
      "name": "report",
      "type": "report"
     }
    }
   }
  },
  "kernelspec": {
   "display_name": "Python 3 (ipykernel)",
   "language": "python",
   "name": "python3"
  },
  "language_info": {
   "codemirror_mode": {
    "name": "ipython",
    "version": 3
   },
   "file_extension": ".py",
   "mimetype": "text/x-python",
   "name": "python",
   "nbconvert_exporter": "python",
   "pygments_lexer": "ipython3",
   "version": "3.9.15"
  }
 },
 "nbformat": 4,
 "nbformat_minor": 2
}
